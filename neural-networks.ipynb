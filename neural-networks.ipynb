{
 "cells": [
  {
   "cell_type": "code",
   "execution_count": 2,
   "metadata": {
    "collapsed": false
   },
   "outputs": [],
   "source": [
    "import numpy as np\n",
    "import os\n",
    "import pickle"
   ]
  },
  {
   "cell_type": "markdown",
   "metadata": {},
   "source": [
    "Load data from pickle to memory."
   ]
  },
  {
   "cell_type": "code",
   "execution_count": 3,
   "metadata": {
    "collapsed": false
   },
   "outputs": [
    {
     "name": "stdout",
     "output_type": "stream",
     "text": [
      "(60000, 28, 28)\n",
      "(60000,)\n"
     ]
    }
   ],
   "source": [
    "# Assumes data have been downloaded extracted and saved to pickle\n",
    "\n",
    "filename_train_images = 'data/mnist_train_images'\n",
    "filename_train_labels = 'data/mnist_train_labels'\n",
    "\n",
    "def getPickleFilename(filename):\n",
    "    return filename + '.pickle'\n",
    "\n",
    "def loadFromPickle(filename):\n",
    "    if not os.path.isfile(getPickleFilename(filename)):\n",
    "        return np.array([])\n",
    "    file = open(getPickleFilename(filename), 'rb')\n",
    "    data = pickle.load(file)\n",
    "    file.close()\n",
    "    return data\n",
    "\n",
    "images = loadFromPickle(filename_train_images)\n",
    "labels = loadFromPickle(filename_train_labels)\n",
    "\n",
    "print(images.shape)\n",
    "print(labels.shape)"
   ]
  },
  {
   "cell_type": "markdown",
   "metadata": {},
   "source": [
    "Neural networks offers an alternate way to perform machine learning when we have complex hypotheses with many features.\n",
    "\n",
    "$\n",
    "X = \n",
    "\\begin{bmatrix}\n",
    "x_{11} & \\cdots & x_{1n} \\\\\n",
    "\\vdots & \\ddots & \\\\\n",
    "x_{m1} & & x_{mn} \\\\\n",
    "\\end{bmatrix}\n",
    "$\n",
    "$\n",
    ",\\qquad W_i = [\\text{number of rows in layer i}]\\,\\times\\,n, \\qquad i \\in 1,...,l\n",
    "$ \n",
    "\n",
    "$\n",
    "\\begin{bmatrix}\n",
    "x_1 \\\\\n",
    "\\vdots \\\\\n",
    "x_n\n",
    "\\end{bmatrix}\n",
    "$\n",
    "=>\n",
    "$\n",
    "\\begin{bmatrix}\n",
    "a_1 \\\\\n",
    "\\vdots \\\\\n",
    "a_{n1}\n",
    "\\end{bmatrix}\n",
    "$\n",
    "=>\n",
    "$\n",
    "h=\\displaystyle\\sum_{i=1}^{n1}w2_{i}a_{i}\n",
    "$\n",
    "\n",
    "$\n",
    "Y = \n",
    "\\begin{bmatrix}\n",
    "y_{11} & \\cdots & y_{1c} \\\\\n",
    "\\vdots & \\ddots & \\\\\n",
    "y_{m1} & & y_{mc} \\\\\n",
    "\\end{bmatrix}\n",
    "$"
   ]
  },
  {
   "cell_type": "code",
   "execution_count": 96,
   "metadata": {
    "collapsed": false
   },
   "outputs": [
    {
     "name": "stdout",
     "output_type": "stream",
     "text": [
      "[[  2.80105469e-093   1.45716829e-054   8.64392802e-184   2.18218506e-072\n",
      "    6.44685898e-081   1.42968779e-023   1.03373349e-129   1.03373349e-129\n",
      "    1.03373349e-129   3.62580867e-167]\n",
      " [  1.00000000e+000   8.68885068e-061   1.53168433e-086   1.19156404e-019\n",
      "    1.13063052e-052   5.64347268e-218   1.21569638e-076   1.21569638e-076\n",
      "    1.21569638e-076   7.71015263e-100]\n",
      " [  1.03907275e-165   3.28876600e-026   5.61134630e-061   5.13492805e-009\n",
      "    1.00000000e+000   1.13999873e-025   1.44752780e-023   1.44752780e-023\n",
      "    1.44752780e-023   9.35352574e-043]\n",
      " [  3.20429664e-160   1.00000000e+000   1.68198689e-062   3.01574405e-017\n",
      "    1.41647651e-022   1.01702531e-028   1.38206431e-035   1.38206431e-035\n",
      "    1.38206431e-035   3.25523877e-048]\n",
      " [  4.99821195e-056   9.38046641e-102   1.94789391e-094   5.66715514e-078\n",
      "    7.16273785e-118   3.83515357e-063   3.21241794e-042   3.21241794e-042\n",
      "    3.21241794e-042   1.00000000e+000]\n",
      " [  2.24663431e-083   1.57814237e-037   1.00000000e+000   3.54575212e-057\n",
      "    1.16128254e-004   1.29874739e-067   6.01640962e-061   6.01640962e-061\n",
      "    6.01640962e-061   3.19970252e-202]\n",
      " [  5.49663328e-062   1.00000000e+000   2.28513220e-203   1.41512913e-116\n",
      "    3.37527021e-052   1.98090580e-013   6.19089203e-045   6.19089203e-045\n",
      "    6.19089203e-045   2.56682451e-028]\n",
      " [  5.25295857e-142   2.09883537e-028   2.10600705e-148   1.00000000e+000\n",
      "    9.70775868e-001   3.39090149e-074   6.95384255e-101   6.95384255e-101\n",
      "    6.95384255e-101   2.30002393e-144]\n",
      " [  1.36139907e-034   1.00000000e+000   1.16183602e-124   2.41567902e-112\n",
      "    5.60548439e-054   8.00778321e-009   3.59526498e-029   3.59526498e-029\n",
      "    3.59526498e-029   2.53320828e-007]\n",
      " [  1.39982875e-103   2.86227501e-019   2.63015349e-185   7.23582725e-158\n",
      "    1.00000000e+000   9.03343586e-038   8.88659616e-044   8.88659616e-044\n",
      "    8.88659616e-044   1.39354079e-069]]\n",
      "[[ 0.  0.  0.  0.  0.  1.  0.  0.  0.  0.]\n",
      " [ 1.  0.  0.  0.  0.  0.  0.  0.  0.  0.]\n",
      " [ 0.  0.  0.  0.  1.  0.  0.  0.  0.  0.]\n",
      " [ 0.  1.  0.  0.  0.  0.  0.  0.  0.  0.]\n",
      " [ 0.  0.  0.  0.  0.  0.  0.  0.  0.  1.]\n",
      " [ 0.  0.  1.  0.  0.  0.  0.  0.  0.  0.]\n",
      " [ 0.  1.  0.  0.  0.  0.  0.  0.  0.  0.]\n",
      " [ 0.  0.  0.  1.  0.  0.  0.  0.  0.  0.]\n",
      " [ 0.  1.  0.  0.  0.  0.  0.  0.  0.  0.]\n",
      " [ 0.  0.  0.  0.  1.  0.  0.  0.  0.  0.]]\n"
     ]
    }
   ],
   "source": [
    "def h(W, X):\n",
    "    #print(X.shape)\n",
    "    #print(W.shape)\n",
    "    return 1 / (1 + np.exp(-X.dot(W.T)))\n",
    "\n",
    "def gradient(W, Y, X):\n",
    "    #np.sum((h() - Y) * X, axis=0, keepdims=True).T\n",
    "    return (X.T).dot(h(W, X) - Y) / m\n",
    "\n",
    "def gradient_descent(W, Y, X):\n",
    "    return W - alpha * gradient(W, Y, X)\n",
    "\n",
    "def loss(W, Y, X):\n",
    "    D = h(W, X) - Y\n",
    "    return  float(D.T.dot(D) / m)\n",
    "\n",
    "#m = images.shape[0]\n",
    "m = 1\n",
    "n = images.shape[1]**2\n",
    "X = images[0:m].reshape(m, n) # m X n\n",
    "X = np.insert(X, 0, 1, axis=1)\n",
    "Y = labels[0:m]\n",
    "W = np.zeros(n + 1)\n",
    "alpha = 0.000001\n",
    "\n",
    "# Need Y for each classes\n",
    "c = 10 # amount of classes\n",
    "Ys = np.zeros((m,c))\n",
    "for i in range(0, m):\n",
    "    Ys[i][Y[i]] = 1\n",
    "\n",
    "# TODO random initialize weights\n",
    "Ws = np.zeros((c,n+1))\n",
    "\n",
    "num_layers = 1\n",
    "alpha = 0.0001\n",
    "for i in range(0, m):\n",
    "    # forward propagation\n",
    "    # for j in range(0, num_layers):\n",
    "    #print(Ws.shape)\n",
    "    #print(Ws[0])\n",
    "    O = h(Ws,X[i])\n",
    "    #print(O)\n",
    "    #print(Ys[i])\n",
    "    diff = O - Ys[i]\n",
    "    #print(diff)\n",
    "    der = diff[np.newaxis].T * X[i]\n",
    "    #print(der.shape)\n",
    "    Ws = Ws - alpha * der\n",
    "\n",
    "print(h(Ws, X))\n",
    "print(Ys)"
   ]
  },
  {
   "cell_type": "code",
   "execution_count": null,
   "metadata": {
    "collapsed": true
   },
   "outputs": [],
   "source": []
  }
 ],
 "metadata": {
  "anaconda-cloud": {},
  "kernelspec": {
   "display_name": "Python [machine-learning]",
   "language": "python",
   "name": "Python [machine-learning]"
  },
  "language_info": {
   "codemirror_mode": {
    "name": "ipython",
    "version": 3
   },
   "file_extension": ".py",
   "mimetype": "text/x-python",
   "name": "python",
   "nbconvert_exporter": "python",
   "pygments_lexer": "ipython3",
   "version": "3.5.2"
  }
 },
 "nbformat": 4,
 "nbformat_minor": 0
}
