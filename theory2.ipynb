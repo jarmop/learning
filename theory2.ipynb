{
 "cells": [
  {
   "cell_type": "markdown",
   "metadata": {},
   "source": [
    "# Linear regression\n",
    "\n",
    "$n=[\\text{number of features}]$  \n",
    "$m=[\\text{sample size}]$  \n",
    "$x=[\\text{input value}]$  \n",
    "$w=[\\text{input weight}]$\n",
    "\n",
    "$\\displaystyle h=\\sum_{i=1}^{n}w_ix_i$  \n",
    "$\\displaystyle l=\\frac{1}{m}\\sum_{i=1}^{m}(h(x_i)-y_i)^2$  \n",
    "$\\displaystyle l'_w=\\frac{2}{m}\\sum_{i=1}^{m}(h(x_i)-y_i)x_i$ \n",
    "$\\displaystyle w_j=w_j - \\frac{\\alpha}{m}\\sum_{i=1}^{m}(h(x_i)-y_i)x_{ij}, \\quad\\text{where} \\; j \\in 1,...,n$"
   ]
  },
  {
   "cell_type": "markdown",
   "metadata": {},
   "source": [
    "# Logistic regression"
   ]
  },
  {
   "cell_type": "markdown",
   "metadata": {},
   "source": [
    "# Neural networks"
   ]
  }
 ],
 "metadata": {
  "kernelspec": {
   "display_name": "Python [machine-learning]",
   "language": "python",
   "name": "Python [machine-learning]"
  },
  "language_info": {
   "codemirror_mode": {
    "name": "ipython",
    "version": 3
   },
   "file_extension": ".py",
   "mimetype": "text/x-python",
   "name": "python",
   "nbconvert_exporter": "python",
   "pygments_lexer": "ipython3",
   "version": "3.5.2"
  }
 },
 "nbformat": 4,
 "nbformat_minor": 0
}
