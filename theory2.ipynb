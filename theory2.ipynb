{
 "cells": [
  {
   "cell_type": "markdown",
   "metadata": {},
   "source": [
    "# Linear regression\n",
    "\n",
    "$n=[\\text{number of features}]$  \n",
    "$m=[\\text{sample size}]$  \n",
    "$x=[\\text{input value}]$  \n",
    "$w=[\\text{input weight}]$\n",
    "\n",
    "$\\displaystyle h=\\sum_{i=1}^{n}w_ix_i$  \n",
    "$\\displaystyle l=\\frac{1}{m}\\sum_{i=1}^{m}(h(x_i)-y_i)^2$  \n",
    "$\\displaystyle l'_w=\\frac{2}{m}\\sum_{i=1}^{m}(h(x_i)-y_i)x_{ij}, \\quad j \\in 1,...,n$  \n",
    "$\\displaystyle w_j=w_j - \\frac{\\alpha}{m}\\sum_{i=1}^{m}(h(x_i)-y_i)x_{ij}, \\quad j \\in 1,...,n$\n",
    "\n",
    "$H=X \\cdot W$\n",
    "\n",
    "$W = W - \\frac{\\alpha}{m}(H(X)-Y)X$"
   ]
  },
  {
   "cell_type": "code",
   "execution_count": 100,
   "metadata": {
    "collapsed": false
   },
   "outputs": [
    {
     "name": "stdout",
     "output_type": "stream",
     "text": [
      "[[0]\n",
      " [0]\n",
      " [0]]\n",
      "15.0\n",
      "[[ 0.08      ]\n",
      " [ 0.16666667]\n",
      " [ 0.08      ]]\n",
      "8.55451851852\n",
      "[[ 0.1452    ]\n",
      " [ 0.29511111]\n",
      " [ 0.09733333]]\n",
      "6.07374964082\n",
      "[[ 0.200696  ]\n",
      " [ 0.40136741]\n",
      " [ 0.07332089]]\n",
      "5.22930713313\n"
     ]
    }
   ],
   "source": [
    "import numpy as np\n",
    "\n",
    "#W = np.array([3,2,5])[np.newaxis].T\n",
    "W = np.array([0,0,0])[np.newaxis].T\n",
    "X = np.array([\n",
    "        [1,3,2],\n",
    "        [1,4,5],\n",
    "        [1,7,4]\n",
    "    ])\n",
    "Y = np.array([4,5,2])[np.newaxis].T\n",
    "\n",
    "m = Y.shape[0]\n",
    "alpha = 0.01\n",
    "\n",
    "def h(X, W):\n",
    "    return X.dot(W)\n",
    "\n",
    "def gradient(H, Y):\n",
    "    return np.sum((H - Y) * X, axis=1, keepdims=True)\n",
    "\n",
    "def gradient_descent(X, Y, W):\n",
    "    return W - alpha * gradient(h(X, W), Y) / m\n",
    "\n",
    "def loss(H, Y):\n",
    "    return np.sum((H - Y)**2) / m\n",
    "\n",
    "#X = np.insert(X, 0, 1, axis=1)\n",
    "\n",
    "H = h(X, W)\n",
    "print(loss(h(X,W), Y))\n",
    "W = gradient_descent(X, Y, W)\n",
    "print(W)\n",
    "print(loss(h(X,W), Y))\n",
    "W = gradient_descent(X, Y, W)\n",
    "print(W)\n",
    "print(loss(h(X,W), Y))\n",
    "W = gradient_descent(X, Y, W)\n",
    "print(W)\n",
    "print(loss(h(X,W), Y))\n",
    "\n",
    "#np.append(W)"
   ]
  },
  {
   "cell_type": "markdown",
   "metadata": {},
   "source": [
    "# Logistic regression\n",
    "\n",
    "$\\sigma=\\displaystyle\\frac{1}{1+e^{-z}}$\n",
    "\n",
    "$\\sigma'=\\sigma(z)(1-\\sigma(z))$\n",
    "\n",
    "$h = \\displaystyle\\sum_{i=1}^{n}\\sigma(w_{i}x_i)$\n",
    "\n",
    "$l = \\displaystyle\\frac{1}{m}\\sum_{i=1}^{m}-y\\log(h(x_i)) - (1 - y)\\log(1-h(x_i))$\n",
    "\n",
    "$l_j' = \\displaystyle\\frac{1}{m}\\sum_{i=1}^{m}(h(x_i)-y_i)x_{ij}, \\quad j \\in 1,...,n$\n",
    "\n",
    "$\\displaystyle w_j = w_j - \\frac{\\alpha}{m}\\sum_{i=1}^{m}(h(x_i)-y_i)x_{ij}, \\quad j \\in 1,...,n$\n",
    "\n",
    "### Vectorization\n",
    "\n",
    "$H(X)=\\displaystyle\\frac{1}{1+e^{-WX}}$\n",
    "\n",
    "$W = W - \\frac{\\alpha}{m}(H(X)-Y)X$"
   ]
  },
  {
   "cell_type": "code",
   "execution_count": 28,
   "metadata": {
    "collapsed": false
   },
   "outputs": [
    {
     "name": "stdout",
     "output_type": "stream",
     "text": [
      "[[3]\n",
      " [2]\n",
      " [5]]\n"
     ]
    }
   ],
   "source": [
    "#W = np.array([\n",
    "#        [3],\n",
    "#        [2],\n",
    "#        [5]\n",
    "#    ])\n",
    "\n",
    "W = np.zeros(3).reshape()\n",
    "\n",
    "X = np.array([\n",
    "        [1,3,2],\n",
    "        [1,4,5],\n",
    "        [1,7,4]\n",
    "    ])\n",
    "\n",
    "Y = np.array([\n",
    "        [4],\n",
    "        [5],\n",
    "        [2]\n",
    "    ])\n",
    "\n",
    "print(W)"
   ]
  },
  {
   "cell_type": "markdown",
   "metadata": {},
   "source": [
    "# Neural networks\n",
    "Neural networks offers an alternate way to perform machine learning when we have complex hypotheses with many features."
   ]
  }
 ],
 "metadata": {
  "kernelspec": {
   "display_name": "Python [machine-learning]",
   "language": "python",
   "name": "Python [machine-learning]"
  },
  "language_info": {
   "codemirror_mode": {
    "name": "ipython",
    "version": 3
   },
   "file_extension": ".py",
   "mimetype": "text/x-python",
   "name": "python",
   "nbconvert_exporter": "python",
   "pygments_lexer": "ipython3",
   "version": "3.5.2"
  }
 },
 "nbformat": 4,
 "nbformat_minor": 0
}
