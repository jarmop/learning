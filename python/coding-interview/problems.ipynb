{
 "cells": [
  {
   "cell_type": "markdown",
   "metadata": {
    "collapsed": true
   },
   "source": [
    "## Find a sum in an array that adds up to 8."
   ]
  },
  {
   "cell_type": "code",
   "execution_count": 1,
   "metadata": {
    "collapsed": false
   },
   "outputs": [
    {
     "name": "stdout",
     "output_type": "stream",
     "text": [
      "False\n",
      "False\n"
     ]
    }
   ],
   "source": [
    "def hasPairAddingUpToSum2(arr, targetSum):\n",
    "    ret = False\n",
    "    start = 0\n",
    "    end = len(arr) - 1\n",
    "    while (start < end):\n",
    "        sum = arr[start] + arr[end]\n",
    "        if (sum == targetSum):\n",
    "            ret = True\n",
    "            break\n",
    "        elif (sum < targetSum):\n",
    "            start += 1\n",
    "        else:\n",
    "            end -= 1\n",
    "    \n",
    "    return ret\n",
    "\n",
    "def diffExists(diffs, diff, start, end):\n",
    "    if (start == end):\n",
    "        diffs[start] = diff\n",
    "        return False\n",
    "    # make sure is int\n",
    "    middle = (end - start) / 2\n",
    "    if (diff == diffs[middle]):\n",
    "        return True\n",
    "    elif (diff < diffs[middle]):\n",
    "        diffs = diffs[:middle]\n",
    "    else:\n",
    "        diffs = diffs[middle:]\n",
    "    return diffExists(diffs)\n",
    "    \n",
    "def addDiff(diffs, diff):\n",
    "    # put diff into diffs keeping it sorted\n",
    "    pass\n",
    "\n",
    "def hasPairAddingUpToSum(arr, targetSum):\n",
    "    ret = False\n",
    "    pos = 0\n",
    "    end = len(arr) - 1\n",
    "    diffs = []\n",
    "    while (pos <= end):\n",
    "        diff = targetSum - arr[pos]\n",
    "        if (diffExists(diffs, diff, 0, len(diffs) - 1)):\n",
    "            return True\n",
    "        pos += 1\n",
    "    \n",
    "    return ret\n",
    "\n",
    "arrs = [\n",
    "        [1,2,3,9],\n",
    "        [1,2,4,4]\n",
    "    ]\n",
    "for arr in arrs:\n",
    "    print(hasPairAddingUpToSum(arr, 8))"
   ]
  },
  {
   "cell_type": "code",
   "execution_count": null,
   "metadata": {
    "collapsed": true
   },
   "outputs": [],
   "source": []
  }
 ],
 "metadata": {
  "kernelspec": {
   "display_name": "Python 3",
   "language": "python",
   "name": "python3"
  },
  "language_info": {
   "codemirror_mode": {
    "name": "ipython",
    "version": 3
   },
   "file_extension": ".py",
   "mimetype": "text/x-python",
   "name": "python",
   "nbconvert_exporter": "python",
   "pygments_lexer": "ipython3",
   "version": "3.5.2"
  }
 },
 "nbformat": 4,
 "nbformat_minor": 0
}
