{
 "cells": [
  {
   "cell_type": "markdown",
   "metadata": {},
   "source": [
    "# Google interview questions posted on careercup.com\n",
    "\n",
    "All google questions: https://www.careercup.com/page?pid=google-interview-questions\n",
    "\n",
    "Filtered by \"software engineer\":\n",
    "https://www.careercup.com/page?pid=google-interview-questions&job=software-engineer-interview-questions"
   ]
  },
  {
   "cell_type": "markdown",
   "metadata": {},
   "source": [
    "## Question 1\n",
    "\n",
    "You are the main character in a game where you have to defeat a number of enemies in order. The player has a strength value and an initial amount of money. Each enemy also has a strength value, plus a price. \n",
    "\n",
    "When facing each enemy you can either: \n",
    "1) Fight him (if your strength is enough). You keep your money. \n",
    "2) Bribe him (if you have the necessary money). You subtract the enemy's price from your money, and it joins you and adds its strength to yours. \n",
    "\n",
    "Given a starting strength and amount of money, calculate the optimal strategy and the amount of money you end with (-1 if impossible). \n",
    "\n",
    "This can be easily solved recursively in O(2^n) basically trying out each option at every enemy. But is there a polynomial solution, maybe involving Dynamic Programming?"
   ]
  },
  {
   "cell_type": "code",
   "execution_count": null,
   "metadata": {
    "collapsed": true
   },
   "outputs": [],
   "source": []
  }
 ],
 "metadata": {
  "kernelspec": {
   "display_name": "Python 3",
   "language": "python",
   "name": "python3"
  },
  "language_info": {
   "codemirror_mode": {
    "name": "ipython",
    "version": 3
   },
   "file_extension": ".py",
   "mimetype": "text/x-python",
   "name": "python",
   "nbconvert_exporter": "python",
   "pygments_lexer": "ipython3",
   "version": "3.5.2"
  }
 },
 "nbformat": 4,
 "nbformat_minor": 1
}
