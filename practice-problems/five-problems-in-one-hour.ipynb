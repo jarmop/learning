{
 "cells": [
  {
   "cell_type": "markdown",
   "metadata": {},
   "source": [
    "# Five programming problems every Software Engineer should be able to solve in less than 1 hour\n",
    "\n",
    "http://www.shiftedup.com/2015/05/07/five-programming-problems-every-software-engineer-should-be-able-to-solve-in-less-than-1-hour"
   ]
  },
  {
   "cell_type": "markdown",
   "metadata": {},
   "source": [
    "## Problem 1\n",
    "\n",
    "Write three functions that compute the sum of the numbers in a given list using a for-loop, a while-loop, and recursion."
   ]
  },
  {
   "cell_type": "code",
   "execution_count": 14,
   "metadata": {
    "collapsed": false
   },
   "outputs": [
    {
     "data": {
      "text/plain": [
       "11"
      ]
     },
     "execution_count": 14,
     "metadata": {},
     "output_type": "execute_result"
    }
   ],
   "source": [
    "def sum_for_loop(numbers):\n",
    "    sum = 0\n",
    "    for num in numbers:\n",
    "        sum += num\n",
    "    return sum    \n",
    "\n",
    "def sum_while_loop(numbers):\n",
    "    sum = 0\n",
    "    pos = 0\n",
    "    while pos < len(numbers):\n",
    "        sum += numbers[pos]\n",
    "        pos += 1\n",
    "    return sum\n",
    "\n",
    "def sum_recursion(pos, numbers):\n",
    "    if (pos >= len(numbers)):\n",
    "        return 0 \n",
    "    return numbers[pos] + recursive_sum(pos + 1, numbers)\n",
    "\n",
    "numbers = [1,2,5,3]\n",
    "#sum_for_loop(numbers)\n",
    "#sum_while_loop(numbers)\n",
    "sum_recursion(0, numbers)"
   ]
  },
  {
   "cell_type": "markdown",
   "metadata": {},
   "source": [
    "## Problem 2\n",
    "\n",
    "Write a function that combines two lists by alternatingly taking elements. For example: given the two lists [a, b, c] and [1, 2, 3], the function should return [a, 1, b, 2, c, 3]."
   ]
  },
  {
   "cell_type": "code",
   "execution_count": 16,
   "metadata": {
    "collapsed": false
   },
   "outputs": [
    {
     "data": {
      "text/plain": [
       "['a', 1, 'b', 2, 'c', 3]"
      ]
     },
     "execution_count": 16,
     "metadata": {},
     "output_type": "execute_result"
    }
   ],
   "source": [
    "def combine(list1, list2):\n",
    "    combination = []\n",
    "    for i in range(0, len(list1)):\n",
    "        combination.append(list1[i])\n",
    "        combination.append(list2[i])\n",
    "        \n",
    "    return combination    \n",
    "\n",
    "list1 = ['a','b','c']\n",
    "list2 = [1,2,3]\n",
    "\n",
    "combine(list1, list2)"
   ]
  },
  {
   "cell_type": "markdown",
   "metadata": {},
   "source": [
    "## Problem 3\n",
    "\n",
    "Write a function that computes the list of the first 100 Fibonacci numbers. By definition, the first two numbers in the Fibonacci sequence are 0 and 1, and each subsequent number is the sum of the previous two. As an example, here are the first 10 Fibonnaci numbers: 0, 1, 1, 2, 3, 5, 8, 13, 21, and 34."
   ]
  },
  {
   "cell_type": "code",
   "execution_count": 43,
   "metadata": {
    "collapsed": false
   },
   "outputs": [
    {
     "data": {
      "text/plain": [
       "573147844013817084100"
      ]
     },
     "execution_count": 43,
     "metadata": {},
     "output_type": "execute_result"
    }
   ],
   "source": [
    "def fibonacci100():\n",
    "    previous1 = 0\n",
    "    previous2 = 1\n",
    "    sum = 1\n",
    "    for i in range(2, 100):\n",
    "        sum_of_previous_two = previous1 + previous2\n",
    "        sum += sum_of_previous_two\n",
    "        previous1 = previous2\n",
    "        previous2 = sum_of_previous_two\n",
    "        \n",
    "    return sum    \n",
    "        \n",
    "fibonacci100()"
   ]
  },
  {
   "cell_type": "markdown",
   "metadata": {},
   "source": [
    "## Problem 4\n",
    "\n",
    "Write a function that given a list of non negative integers, arranges them such that they form the largest possible number. For example, given [50, 2, 1, 9], the largest formed number is 95021."
   ]
  },
  {
   "cell_type": "code",
   "execution_count": 56,
   "metadata": {
    "collapsed": false
   },
   "outputs": [
    {
     "data": {
      "text/plain": [
       "'95021'"
      ]
     },
     "execution_count": 56,
     "metadata": {},
     "output_type": "execute_result"
    }
   ],
   "source": [
    "def get_first_digit(number):\n",
    "    return int(str(number)[0])\n",
    "\n",
    "def sort_by_first_number(numbers):\n",
    "    swapped = True\n",
    "    while (swapped == True):\n",
    "        swapped = False\n",
    "        for i in range(1, len(numbers)):\n",
    "            if (get_first_digit(numbers[i - 1]) < get_first_digit(numbers[i])):\n",
    "                bigger = numbers[i]\n",
    "                numbers[i] = numbers[i - 1]\n",
    "                numbers[i - 1] = bigger\n",
    "                swapped = True\n",
    "                \n",
    "    return numbers           \n",
    "\n",
    "def add_large(numbers):\n",
    "    num_string = ''\n",
    "    for num in sort_by_first_number([50,2,1,9]):\n",
    "        num_string += str(num)\n",
    "        \n",
    "    return num_string    \n",
    "\n",
    "add_large([50,2,1,9])"
   ]
  },
  {
   "cell_type": "markdown",
   "metadata": {},
   "source": [
    "## Problem 5\n",
    "\n",
    "Write a program that outputs all possibilities to put + or - or nothing between the numbers 1, 2, ..., 9 (in this order) such that the result is always 100. For example: 1 + 2 + 34 – 5 + 67 – 8 + 9 = 100."
   ]
  },
  {
   "cell_type": "code",
   "execution_count": 105,
   "metadata": {
    "collapsed": false
   },
   "outputs": [
    {
     "name": "stdout",
     "output_type": "stream",
     "text": [
      "['+', '+', '-', '+', '+', '+', '', '+']\n",
      "1+2+3-4+5+6+78+9\n",
      "100\n",
      "['+', '+', '', '-', '+', '', '-', '+']\n",
      "1+2+34-5+67-8+9\n",
      "100\n",
      "['+', '', '-', '+', '+', '+', '', '-']\n",
      "1+23-4+5+6+78-9\n",
      "100\n",
      "['+', '', '-', '+', '', '+', '+', '+']\n",
      "1+23-4+56+7+8+9\n",
      "100\n",
      "['', '+', '+', '+', '-', '-', '+', '']\n",
      "12+3+4+5-6-7+89\n",
      "100\n",
      "['', '+', '-', '+', '+', '', '+', '+']\n",
      "12+3-4+5+67+8+9\n",
      "100\n",
      "['', '-', '-', '+', '-', '+', '+', '']\n",
      "12-3-4+5-6+7+89\n",
      "100\n",
      "['', '', '+', '-', '+', '', '-', '']\n",
      "123+4-5+67-89\n",
      "100\n",
      "['', '', '+', '', '-', '', '+', '-']\n",
      "123+45-67+8-9\n",
      "100\n",
      "['', '', '-', '-', '-', '-', '+', '-']\n",
      "123-4-5-6-7+8-9\n",
      "100\n",
      "['', '', '-', '', '-', '', '+', '']\n",
      "123-45-67+89\n",
      "100\n",
      "done\n"
     ]
    }
   ],
   "source": [
    "# Recursively build lists of possible combinations of operators and perform the computation in the end of each build\n",
    "\n",
    "operators = ['+', '-', '']\n",
    "size = 8\n",
    "\n",
    "def add_operator(operator_list, pos):\n",
    "    if (pos >= size):\n",
    "        # A list of operators is full, let's compute\n",
    "        sum_str = ''\n",
    "        sum = 0\n",
    "        operand = '1'\n",
    "        operator = '+'\n",
    "        for i in range (0,size + 1):\n",
    "            num = i + 2\n",
    "            if (i < len(operator_list)):\n",
    "                sum_str += str(i + 1) + operator_list[i]\n",
    "            if (i < len(operator_list) and operator_list[i] == ''):\n",
    "                if (not operator):\n",
    "                    pass\n",
    "                else:\n",
    "                    operand += str(num)\n",
    "            else:\n",
    "                if (len(operand) > 0):\n",
    "                    if (operator == '+'):\n",
    "                        sum += int(operand)\n",
    "                    else:\n",
    "                        sum -= int(operand)\n",
    "                    if (i < len(operator_list)):\n",
    "                        operand = str(num)                    \n",
    "                        operator = operator_list[i]\n",
    "        if (sum == 100):\n",
    "            sum_str += str(size + 1)\n",
    "            print (operator_list)\n",
    "            print(sum_str)\n",
    "            print(sum)\n",
    "        return\n",
    "    for operator in operators:\n",
    "        # Add another operator in the list until the list is full\n",
    "        operator_list[pos] = operator\n",
    "        add_operator(operator_list, pos + 1)\n",
    "\n",
    "def build_operator_list():\n",
    "    operator_list = ['+' for i in range(0, size)]\n",
    "    add_operator(operator_list, 0)\n",
    "    print('done')\n",
    "    \n",
    "build_operator_list()"
   ]
  },
  {
   "cell_type": "markdown",
   "metadata": {},
   "source": [
    "The last one took about two hours for me to crack. Others were a breeze."
   ]
  }
 ],
 "metadata": {
  "kernelspec": {
   "display_name": "Python 3",
   "language": "python",
   "name": "python3"
  },
  "language_info": {
   "codemirror_mode": {
    "name": "ipython",
    "version": 3
   },
   "file_extension": ".py",
   "mimetype": "text/x-python",
   "name": "python",
   "nbconvert_exporter": "python",
   "pygments_lexer": "ipython3",
   "version": "3.5.2"
  }
 },
 "nbformat": 4,
 "nbformat_minor": 1
}
