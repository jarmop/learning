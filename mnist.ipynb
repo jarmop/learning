{
 "cells": [
  {
   "cell_type": "code",
   "execution_count": 14,
   "metadata": {
    "collapsed": true
   },
   "outputs": [],
   "source": [
    "import numpy as np # for numerical operations\n",
    "import matplotlib.pyplot as plt # for visualization (plotting)\n",
    "from math import exp\n",
    "from six.moves.urllib.request import urlretrieve\n",
    "from six.moves import cPickle as pickle\n",
    "import os\n",
    "import tarfile\n",
    "\n",
    "# to display plots inline (with the rest of the output) rather than in a separate window\n",
    "%matplotlib inline"
   ]
  },
  {
   "cell_type": "markdown",
   "metadata": {},
   "source": [
    "Classification with real data."
   ]
  },
  {
   "cell_type": "code",
   "execution_count": 40,
   "metadata": {
    "collapsed": false
   },
   "outputs": [],
   "source": [
    "url_train_images = 'http://yann.lecun.com/exdb/mnist/train-images-idx3-ubyte.gz'\n",
    "url_train_labels = 'http://yann.lecun.com/exdb/mnist/train-labels-idx1-ubyte.gz'\n",
    "file_train_images = 'data/mnist_train_images'\n",
    "file_train_labels = 'data/mnist_train_labels'\n",
    "\n",
    "#filename, _ = urlretrieve(url_train_labels)\n",
    "\n",
    "#print(filename)\n",
    "\n",
    "#filename = 'data/mnist_train_labels'\n",
    "\n",
    "def load_file(url, filename):\n",
    "    if not os.path.isfile(filename):\n",
    "        print('Loading file...')\n",
    "        temp_filename, _ = urlretrieve(url)\n",
    "        temp_file = gzip.open(temp_filename)\n",
    "        file = open(filename, 'wb')\n",
    "        file.write(temp_file.read())\n",
    "        file.close()\n",
    "        temp_file.close()\n",
    "        \n",
    "load_file(url_train_images, file_train_images)\n",
    "load_file(url_train_labels, file_train_labels)"
   ]
  }
 ],
 "metadata": {
  "anaconda-cloud": {},
  "kernelspec": {
   "display_name": "Python [machine-learning]",
   "language": "python",
   "name": "Python [machine-learning]"
  },
  "language_info": {
   "codemirror_mode": {
    "name": "ipython",
    "version": 3
   },
   "file_extension": ".py",
   "mimetype": "text/x-python",
   "name": "python",
   "nbconvert_exporter": "python",
   "pygments_lexer": "ipython3",
   "version": "3.5.2"
  }
 },
 "nbformat": 4,
 "nbformat_minor": 0
}
