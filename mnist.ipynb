{
 "cells": [
  {
   "cell_type": "code",
   "execution_count": 120,
   "metadata": {
    "collapsed": true
   },
   "outputs": [],
   "source": [
    "import numpy as np # for numerical operations\n",
    "import matplotlib.pyplot as plt # for visualization (plotting)\n",
    "from math import exp\n",
    "from urllib.request import urlretrieve\n",
    "import pickle\n",
    "import os\n",
    "import struct\n",
    "\n",
    "# to display plots inline (with the rest of the output) rather than in a separate window\n",
    "%matplotlib inline"
   ]
  },
  {
   "cell_type": "markdown",
   "metadata": {},
   "source": [
    "Classification with real data."
   ]
  },
  {
   "cell_type": "code",
   "execution_count": null,
   "metadata": {
    "collapsed": false
   },
   "outputs": [
    {
     "name": "stdout",
     "output_type": "stream",
     "text": [
      "Parsing images from file...\n"
     ]
    }
   ],
   "source": [
    "url_train_images = 'http://yann.lecun.com/exdb/mnist/train-images-idx3-ubyte.gz'\n",
    "url_train_labels = 'http://yann.lecun.com/exdb/mnist/train-labels-idx1-ubyte.gz'\n",
    "filename_train_images = 'data/mnist_train_images'\n",
    "filename_train_labels = 'data/mnist_train_labels'\n",
    "filename_train_images_pickle = filename_train_images + '.pickle'\n",
    "filename_train_labels_pickle = filename_train_labels + '.pickle'\n",
    "\n",
    "def load_file(url, filename):\n",
    "    if not os.path.isfile(filename):\n",
    "        print('Loading file...')\n",
    "        temp_filename, _ = urlretrieve(url)\n",
    "        temp_file = gzip.open(temp_filename)\n",
    "        file = open(filename, 'wb')\n",
    "        file.write(temp_file.read())\n",
    "        file.close()\n",
    "        temp_file.close()\n",
    "        \n",
    "load_file(url_train_images, filename_train_images)\n",
    "load_file(url_train_labels, filename_train_labels)\n",
    "\n",
    "def getImages():\n",
    "    if os.path.isfile(filename_train_images_pickle):\n",
    "        print('Loading images from pickle...')\n",
    "        images = pickle.load(open(filename_train_images_pickle, 'rb'))\n",
    "    else:\n",
    "        print('Parsing images from file...')\n",
    "        f = open(filename_train_images, 'rb')\n",
    "        magic_number = struct.unpack('>I',f.read(4))[0]\n",
    "        num_images = struct.unpack('>I',f.read(4))[0]\n",
    "        num_rows = struct.unpack('>I',f.read(4))[0]\n",
    "        num_columns = struct.unpack('>I',f.read(4))[0]\n",
    "        images = []\n",
    "        for i in range(0, num_images):\n",
    "            image = []\n",
    "            for j in range(0, num_rows):\n",
    "                row = []\n",
    "                for k in range(0, num_columns):\n",
    "                    pixel = struct.unpack('B',f.read(1))[0]\n",
    "                    row.append(pixel)\n",
    "                image.append(row)\n",
    "            images.append(image)\n",
    "        pickle.dump(images, open(filename_train_images_pickle, 'wb'))      \n",
    "    return images\n",
    "\n",
    "def getLabels():\n",
    "    labels = []\n",
    "    if os.path.isfile(filename_train_labels_pickle):\n",
    "        print('Loading labels from pickle...')\n",
    "        labels = pickle.load(open(filename_train_labels_pickle, 'rb'))\n",
    "    else:\n",
    "        print('Loading labels from file...')\n",
    "        f = open(filename_train_labels, 'rb')\n",
    "        magic_number = struct.unpack('>I',f.read(4))[0]\n",
    "        num_labels = struct.unpack('>I',f.read(4))[0]\n",
    "        for i in range(0, num_labels):\n",
    "            labels.append(struct.unpack('B',f.read(1))[0]) \n",
    "        pickle.dump(labels, open(filename_train_labels_pickle, 'wb'))    \n",
    "    return labels\n",
    "    \n",
    "images = getImages()\n",
    "labels = getLabels()\n",
    "\n",
    "print('done')\n",
    "print(np.array(images).shape)\n",
    "print(np.array(labels).shape)\n",
    "\n",
    "\n",
    "#for i in range(0, 3):\n",
    "#    print(labels[i])\n",
    "#    plt.imshow(images[i])\n",
    "#    plt.show()\n",
    "        \n",
    "f.close()"
   ]
  },
  {
   "cell_type": "code",
   "execution_count": 134,
   "metadata": {
    "collapsed": false
   },
   "outputs": [
    {
     "data": {
      "text/plain": [
       "False"
      ]
     },
     "execution_count": 134,
     "metadata": {},
     "output_type": "execute_result"
    }
   ],
   "source": [
    "pickle.load(open(filename_train_labels_pickle, 'rb'))\n"
   ]
  }
 ],
 "metadata": {
  "anaconda-cloud": {},
  "kernelspec": {
   "display_name": "Python [machine-learning]",
   "language": "python",
   "name": "Python [machine-learning]"
  },
  "language_info": {
   "codemirror_mode": {
    "name": "ipython",
    "version": 3
   },
   "file_extension": ".py",
   "mimetype": "text/x-python",
   "name": "python",
   "nbconvert_exporter": "python",
   "pygments_lexer": "ipython3",
   "version": "3.5.2"
  }
 },
 "nbformat": 4,
 "nbformat_minor": 0
}
