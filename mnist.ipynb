{
 "cells": [
  {
   "cell_type": "code",
   "execution_count": 1,
   "metadata": {
    "collapsed": true
   },
   "outputs": [],
   "source": [
    "import numpy as np # for numerical operations\n",
    "import matplotlib.pyplot as plt # for visualization (plotting)\n",
    "from math import exp\n",
    "from urllib.request import urlretrieve\n",
    "import pickle\n",
    "import os\n",
    "import struct\n",
    "\n",
    "# to display plots inline (with the rest of the output) rather than in a separate window\n",
    "%matplotlib inline"
   ]
  },
  {
   "cell_type": "markdown",
   "metadata": {},
   "source": [
    "Classification with real data."
   ]
  },
  {
   "cell_type": "code",
   "execution_count": 6,
   "metadata": {
    "collapsed": false
   },
   "outputs": [
    {
     "name": "stdout",
     "output_type": "stream",
     "text": [
      "Loading images from pickle...\n",
      "Loading labels from pickle...\n",
      "done\n",
      "(60000, 28, 28)\n",
      "(60000,)\n",
      "5\n"
     ]
    },
    {
     "data": {
      "image/png": "[encoded data removed]",
      "text/plain": [
       "<matplotlib.figure.Figure at 0x10e130e10>"
      ]
     },
     "metadata": {},
     "output_type": "display_data"
    },
    {
     "name": "stdout",
     "output_type": "stream",
     "text": [
      "0\n"
     ]
    },
    {
     "data": {
      "image/png": "[encoded data removed]",
      "text/plain": [
       "<matplotlib.figure.Figure at 0x10e650b70>"
      ]
     },
     "metadata": {},
     "output_type": "display_data"
    },
    {
     "name": "stdout",
     "output_type": "stream",
     "text": [
      "4\n"
     ]
    },
    {
     "data": {
      "image/png": "[encoded data removed]",
      "text/plain": [
       "<matplotlib.figure.Figure at 0x10e4423c8>"
      ]
     },
     "metadata": {},
     "output_type": "display_data"
    }
   ],
   "source": [
    "url_train_images = 'http://yann.lecun.com/exdb/mnist/train-images-idx3-ubyte.gz'\n",
    "url_train_labels = 'http://yann.lecun.com/exdb/mnist/train-labels-idx1-ubyte.gz'\n",
    "filename_train_images = 'data/mnist_train_images'\n",
    "filename_train_labels = 'data/mnist_train_labels'\n",
    "\n",
    "def load_file(url, filename):\n",
    "    if not os.path.isfile(filename):\n",
    "        print('Loading file...')\n",
    "        temp_filename, _ = urlretrieve(url)\n",
    "        temp_file = gzip.open(temp_filename)\n",
    "        file = open(filename, 'wb')\n",
    "        file.write(temp_file.read())\n",
    "        file.close()\n",
    "        temp_file.close()\n",
    "        \n",
    "load_file(url_train_images, filename_train_images)\n",
    "load_file(url_train_labels, filename_train_labels)\n",
    "\n",
    "def getPickleFilename(filename):\n",
    "    return filename + '.pickle'\n",
    "\n",
    "def saveToPickle(data, filename):\n",
    "    file = open(getPickleFilename(filename), 'wb')\n",
    "    pickle.dump(data, file)\n",
    "    file.close()\n",
    "    \n",
    "def loadFromPickle(filename):\n",
    "    if not os.path.isfile(getPickleFilename(filename)):\n",
    "        return np.array([])\n",
    "    file = open(getPickleFilename(filename), 'rb')\n",
    "    data = pickle.load(file)\n",
    "    file.close()\n",
    "    return data\n",
    "\n",
    "def getImages(filename):\n",
    "    print('Loading images from pickle...')\n",
    "    images = loadFromPickle(filename)\n",
    "    if not images.any():\n",
    "        print('Pickle not found. Parsing images from file...')\n",
    "        images = []\n",
    "        f = open(filename, 'rb')\n",
    "        magic_number = struct.unpack('>I',f.read(4))[0]\n",
    "        num_images = struct.unpack('>I',f.read(4))[0]\n",
    "        num_rows = struct.unpack('>I',f.read(4))[0]\n",
    "        num_columns = struct.unpack('>I',f.read(4))[0]\n",
    "        for i in range(0, num_images):\n",
    "            image = []\n",
    "            for j in range(0, num_rows):\n",
    "                row = []\n",
    "                for k in range(0, num_columns):\n",
    "                    pixel = struct.unpack('B',f.read(1))[0]\n",
    "                    row.append(pixel)\n",
    "                image.append(row)\n",
    "            images.append(image)\n",
    "        f.close()\n",
    "        print('Saving images to pickle...')\n",
    "        saveToPickle(np.array(images), filename)\n",
    "    return images\n",
    "\n",
    "def getLabels(filename):\n",
    "    print('Loading labels from pickle...')\n",
    "    labels = loadFromPickle(filename)\n",
    "    if not labels.any():\n",
    "        print('Pickle not found. Parsing labels from file...')\n",
    "        labels = []\n",
    "        f = open(filename, 'rb')\n",
    "        magic_number = struct.unpack('>I',f.read(4))[0]\n",
    "        num_labels = struct.unpack('>I',f.read(4))[0]\n",
    "        for i in range(0, num_labels):\n",
    "            labels.append(struct.unpack('B',f.read(1))[0])\n",
    "        f.close()\n",
    "        print('Saving images to pickle...')\n",
    "        saveToPickle(np.array(labels), filename)\n",
    "    return labels\n",
    "    \n",
    "images = getImages(filename_train_images)\n",
    "labels = getLabels(filename_train_labels)\n",
    "\n",
    "print('done')\n",
    "print(images.shape)\n",
    "print(labels.shape)\n",
    "\n",
    "for i in range(0, 3):\n",
    "    print(labels[i])\n",
    "    plt.imshow(images[i], interpolation=\"nearest\")\n",
    "    plt.show()"
   ]
  },
  {
   "cell_type": "code",
   "execution_count": 5,
   "metadata": {
    "collapsed": false
   },
   "outputs": [
    {
     "data": {
      "image/png": "[encoded data removed]",
      "text/plain": [
       "<matplotlib.figure.Figure at 0x10dc40358>"
      ]
     },
     "metadata": {},
     "output_type": "display_data"
    },
    {
     "data": {
      "image/png": "[encoded data removed]",
      "text/plain": [
       "<matplotlib.figure.Figure at 0x10de42e10>"
      ]
     },
     "metadata": {},
     "output_type": "display_data"
    },
    {
     "data": {
      "image/png": "[encoded data removed]",
      "text/plain": [
       "<matplotlib.figure.Figure at 0x10df17470>"
      ]
     },
     "metadata": {},
     "output_type": "display_data"
    },
    {
     "data": {
      "image/png": "[encoded data removed]",
      "text/plain": [
       "<matplotlib.figure.Figure at 0x10df6d630>"
      ]
     },
     "metadata": {},
     "output_type": "display_data"
    },
    {
     "data": {
      "image/png": "[encoded data removed]",
      "text/plain": [
       "<matplotlib.figure.Figure at 0x10df41828>"
      ]
     },
     "metadata": {},
     "output_type": "display_data"
    }
   ],
   "source": [
    "class Machine:\n",
    "    def __init__(self, n):\n",
    "        self.w = np.zeros(n)\n",
    "    def h(self, x):\n",
    "        return 1 / (1 + np.exp(-x.dot(self.w.T)))\n",
    "\n",
    "def loss(x, y, m):\n",
    "    return np.sum(-y * np.log(x) - (1 - y) * np.log(1 - x)) / m\n",
    "\n",
    "def gradient_descent(machine, training_set, correct_values, alpha, iterations):\n",
    "    m = training_set.shape[0]\n",
    "    n = training_set.shape[1]\n",
    "    values = []\n",
    "    values.append(np.copy(machine.w))\n",
    "    losses = []\n",
    "    for i in range(0, iterations):\n",
    "        d = (machine.h(training_set) - correct_values).dot(training_set)\n",
    "        machine.w -= alpha * d / m\n",
    "        values.append(np.copy(machine.w))\n",
    "        losses.append(loss(machine.h(training_set), correct_values, m))\n",
    "    #print(losses)\n",
    "    #plt.plot(values)\n",
    "    #plt.show()\n",
    "    #plt.plot(losses)\n",
    "    #plt.show()\n",
    "\n",
    "def trainer(images, labels, alpha, iterations, m):\n",
    "    n = 784\n",
    "    # Take subset of m samples and flatten images (28 X 28 => 784)\n",
    "    images = images[0:m].reshape(m,n)\n",
    "    labels = labels[0:m]\n",
    "    #print(labels.shape)\n",
    "    \n",
    "    # Add bias\n",
    "    images = np.insert(images, 0, 1, axis=1)\n",
    "    #print(images.shape)\n",
    "    \n",
    "    # Create labels for each class\n",
    "    label_set = []\n",
    "    machines = []\n",
    "    classes = range(0, 10)\n",
    "    for c in classes:\n",
    "        label_set.append(np.zeros(m))\n",
    "        machines.append(Machine(n + 1))     \n",
    "    for i in range(0,m):\n",
    "        label_set[labels[i]][i] = 1\n",
    "        \n",
    "    #print(labels)    \n",
    "    #print(label_set)    \n",
    "\n",
    "    for i in range(0, 5):\n",
    "        gradient_descent(machines[i], images, label_set[i], alpha, iterations)\n",
    "        #print(images[0])\n",
    "        #print(machines[i].h(images[0:10]))\n",
    "        weightImage = machines[i].w[1:].reshape(28,28)\n",
    "        plt.figure()\n",
    "        plt.imshow(weightImage, interpolation=\"nearest\")\n",
    "        #print(weightImage)\n",
    "    \n",
    "trainer(images, labels, alpha = 0.00001, iterations = 10, m = 100)"
   ]
  },
  {
   "cell_type": "code",
   "execution_count": 4,
   "metadata": {
    "collapsed": false
   },
   "outputs": [
    {
     "name": "stdout",
     "output_type": "stream",
     "text": [
      "[5 0 4 1 9 2 1 3 1 4]\n",
      "(5, 0.87335117210839797)\n",
      "(0, 0.9990007612882168)\n",
      "(4, 0.99732923355618008)\n",
      "(1, 0.97115505059786)\n",
      "(9, 0.91205913949967121)\n",
      "(2, 0.91316309680318208)\n",
      "(1, 0.97195432481936561)\n",
      "(3, 0.90484903361329483)\n",
      "(1, 0.96206205970770253)\n",
      "(4, 0.96328590803596981)\n",
      "[5 7 1 7 1 1 6 3 0 2]\n",
      "(8, 0.21742302952295572)\n",
      "(7, 0.93290852861616713)\n",
      "(1, 0.97438575569496944)\n",
      "(7, 0.94331765810610269)\n",
      "(1, 0.76764546829779268)\n",
      "(1, 0.98659262702243322)\n",
      "(6, 0.97989958078056139)\n",
      "(3, 0.77220512036224032)\n",
      "(0, 0.84226776423292915)\n",
      "(6, 0.15114215922181085)\n"
     ]
    }
   ],
   "source": [
    "def predict(machines, image):\n",
    "    number = -1;\n",
    "    bestP = 0;\n",
    "    for i in range(0, len(machines)):\n",
    "        p = machines[i].h(image)\n",
    "        if p > bestP:\n",
    "            number = i\n",
    "            bestP = p\n",
    "        #print(i)\n",
    "        #print(p)\n",
    "    return (number, bestP)   \n",
    "\n",
    "def trainer(images, labels, alpha, iterations, m):\n",
    "    n = 784\n",
    "    testImages = images[m:m+10].reshape(10,n)\n",
    "    testImages = np.insert(testImages, 0, 1, axis=1)\n",
    "    testLabels = labels[m:m+10]\n",
    "    # Take subset of m samples and flatten images (28 X 28 => 784)\n",
    "    images = images[0:m].reshape(m,n)\n",
    "    labels = labels[0:m]\n",
    "    \n",
    "    # Add bias\n",
    "    images = np.insert(images, 0, 1, axis=1)\n",
    "    \n",
    "    # Create labels for each class\n",
    "    label_set = []\n",
    "    machines = []\n",
    "    classes = range(0, 10)\n",
    "    for c in classes:\n",
    "        label_set.append(np.zeros(m))\n",
    "        machines.append(Machine(n + 1))     \n",
    "    for i in range(0,m):\n",
    "        label_set[labels[i]][i] = 1\n",
    "\n",
    "    for i in range(0, 10):\n",
    "        gradient_descent(machines[i], images, label_set[i], alpha, iterations)\n",
    "    \n",
    "    # First test with training data (this should be easy)\n",
    "    print(labels[0:10])\n",
    "    for image in images[0:10]:\n",
    "        print(predict(machines, image))\n",
    "    \n",
    "    # Test with unseen data (this should be harder)\n",
    "    print(testLabels)\n",
    "    for image in testImages[0:10]:\n",
    "        print(predict(machines, image))\n",
    "    \n",
    "trainer(images, labels, alpha = 0.00001, iterations = 100, m = 100)"
   ]
  },
  {
   "cell_type": "markdown",
   "metadata": {},
   "source": [
    "When testing with unseen data the algorithm fails predicting 5 and 2 and instead predicts 8 and 6 with probabilities 0.22 and 0.15 respectively. Otherwise it does quite well."
   ]
  }
 ],
 "metadata": {
  "anaconda-cloud": {},
  "kernelspec": {
   "display_name": "Python [machine-learning]",
   "language": "python",
   "name": "Python [machine-learning]"
  },
  "language_info": {
   "codemirror_mode": {
    "name": "ipython",
    "version": 3
   },
   "file_extension": ".py",
   "mimetype": "text/x-python",
   "name": "python",
   "nbconvert_exporter": "python",
   "pygments_lexer": "ipython3",
   "version": "3.5.2"
  }
 },
 "nbformat": 4,
 "nbformat_minor": 0
}
