{
 "cells": [
  {
   "cell_type": "markdown",
   "metadata": {},
   "source": [
    "# Multiple variables\n",
    "In previous example we had target functions with only one variable so that they could be aproximated by a hyphothesis function $h(x)=a+bx$. What if we had multiple variables instead, say hell of a lot of variables:\n",
    "\n",
    "$$h(x)=\\sum_{i=0}^{n}w_ix_i, \\quad \\text{where $x_0=1$}$$\n",
    "\n",
    "The letter **w** comes from the term **weight** which is used in machine learning to mean a constant multiplying a variable in the hyphothesis function. The first w ($w_0$) is also called **bias** because it's independent of a variable ($x_0$ is always $1$)."
   ]
  },
  {
   "cell_type": "code",
   "execution_count": 1,
   "metadata": {
    "collapsed": true
   },
   "outputs": [],
   "source": [
    "import numpy as np # for numerical operations\n",
    "import matplotlib.pyplot as plt # for visualization (plotting)\n",
    "\n",
    "# to display plots inline (with the rest of the output) rather than in a separate window\n",
    "%matplotlib inline"
   ]
  },
  {
   "cell_type": "markdown",
   "metadata": {},
   "source": [
    "Here is a recap of the code from the previous part dealing with univariate target functions:"
   ]
  },
  {
   "cell_type": "code",
   "execution_count": 2,
   "metadata": {
    "collapsed": false
   },
   "outputs": [
    {
     "name": "stdout",
     "output_type": "stream",
     "text": [
      "2.99597457535\n",
      "2.00016983747\n"
     ]
    }
   ],
   "source": [
    "class Machine:\n",
    "    a = 0\n",
    "    b = 0\n",
    "    def h(self, x):\n",
    "        return self.a + self.b * x\n",
    "    \n",
    "def gradient_descent(machine, t, training_set, alpha, iterations):\n",
    "    a_values = []\n",
    "    b_values = []\n",
    "    n = training_set.size\n",
    "    for i in range(0, iterations):\n",
    "        a_values.append(machine.a)\n",
    "        b_values.append(machine.b)\n",
    "        da = 0\n",
    "        db = 0\n",
    "        for x in training_set:\n",
    "            da += machine.h(x) - t(x)\n",
    "            db += (machine.h(x) - t(x)) * x\n",
    "        machine.a -= alpha * da / n\n",
    "        machine.b -= alpha * db / n\n",
    "\n",
    "def trainer(t, n, alpha, iterations, seed):\n",
    "    np.random.seed(seed)\n",
    "    training_set = np.random.randint(-5, 6, n)\n",
    "    machine = Machine()\n",
    "    gradient_descent(machine, t, training_set, alpha, iterations)\n",
    "    print(machine.a)\n",
    "    print(machine.b)\n",
    "\n",
    "trainer(lambda x: 3 + 2 * x, n = 3, alpha = 0.2, iterations = 30, seed = 876)"
   ]
  },
  {
   "cell_type": "markdown",
   "metadata": {},
   "source": [
    "In this section we will modify the code to handle target functions of multiple variables. We already have two for loops so we really don't want to add another loop to go through all the variables (we also don't want to write them all separately). So we'll introduce a litte bit of linear algebra to prevent the additional for loop.\n",
    "\n",
    "$$\n",
    "\\begin{align}\n",
    "w_j &= w_j - \\frac{\\alpha}{m}\\displaystyle\\sum_{i=1}^m(h(x_i)-t(x_i))x_i \\\\\n",
    "\\end{align}\n",
    "$$"
   ]
  },
  {
   "cell_type": "code",
   "execution_count": 3,
   "metadata": {
    "collapsed": false
   },
   "outputs": [
    {
     "name": "stdout",
     "output_type": "stream",
     "text": [
      "11\n",
      "11\n"
     ]
    }
   ],
   "source": [
    "def t_old(x): return 3 + 2 * x\n",
    "def t(x):\n",
    "    w = np.array([3,2])\n",
    "    return w.dot(x)\n",
    "\n",
    "print(t_old(4))\n",
    "print(t(np.array([1, 4])))"
   ]
  },
  {
   "cell_type": "code",
   "execution_count": 6,
   "metadata": {
    "collapsed": false
   },
   "outputs": [
    {
     "name": "stdout",
     "output_type": "stream",
     "text": [
      "[[ 1 -3]\n",
      " [ 1  0]\n",
      " [ 1  4]]\n",
      "[-11. -53.]\n",
      "[ -5.26666667  36.06666667]\n",
      "[ -6.61777778 -23.69333333]\n",
      "[ -3.71466667  16.23674074]\n",
      "[ -4.05418272 -10.57684938]\n",
      "[-2.53822288  7.32151177]\n",
      "[-2.51867909 -4.71179299]\n",
      "[-1.70082374  3.30910726]\n",
      "[-1.58126614 -2.09268326]\n",
      "[-1.1255007   1.50053992]\n",
      "[-1.00043655 -0.92532656]\n",
      "[-0.7386608   0.68358015]\n",
      "[-0.63650065 -0.40647604]\n",
      "[-0.48210212  0.31341741]\n",
      "[-0.40657619 -0.1768048 ]\n",
      "[-0.31347396  0.14497494]\n",
      "[-0.26044417 -0.0757517 ]\n",
      "[-0.20330522  0.06786408]\n",
      "[-0.16716845 -0.03168904]\n",
      "[-0.13162216  0.03227059]\n",
      "[-0.1074491  -0.01273891]\n",
      "[-0.08511002  0.01565588]\n",
      "[-0.06913174 -0.00476325]\n",
      "[-0.05498784  0.00778429]\n",
      "[-0.04450923 -0.00152367]\n",
      "[-0.0355058   0.00398306]\n",
      "[-0.02867018 -0.00028832]\n",
      "[-0.02291692  0.00210356]\n",
      "[-0.01847377  0.00012542]\n",
      "[-0.01478738  0.00114797]\n",
      "[ 2.99597458  2.00016984]\n"
     ]
    }
   ],
   "source": [
    "class Machine:\n",
    "    def __init__(self, n):\n",
    "        self.w = np.zeros(n)\n",
    "    def h(self, x):\n",
    "        return np.sum(self.w * x)\n",
    "    \n",
    "def t(x):\n",
    "    #seed = 123\n",
    "    #np.random.seed(seed)\n",
    "    #w = np.random.randint(-5, 6, n)\n",
    "    w = [3,2]\n",
    "    return np.sum(w * x)\n",
    "\n",
    "def gradient_descent(machine, t, training_set, alpha, iterations):\n",
    "    m = training_set.shape[0]\n",
    "    n = training_set.shape[1]\n",
    "    for i in range(0, iterations):\n",
    "        d = np.zeros(n)\n",
    "        for x in training_set:\n",
    "            d += (machine.h(x) - t(x)) * x\n",
    "        print(d)    \n",
    "        machine.w -= alpha * d / m\n",
    "\n",
    "def trainer(t, m, alpha, iterations, seed, n):\n",
    "    np.random.seed(seed)\n",
    "    training_set = np.random.randint(-5, 6, (m,1))\n",
    "    training_set = np.insert(training_set, 0, 1, axis=1)\n",
    "    print(training_set)\n",
    "    machine = Machine(n)\n",
    "    gradient_descent(machine, t, training_set, alpha, iterations)\n",
    "    print(machine.w)\n",
    "\n",
    "trainer(t, m = 3, alpha = 0.2, iterations = 30, seed = 876, n = 2)"
   ]
  },
  {
   "cell_type": "code",
   "execution_count": null,
   "metadata": {
    "collapsed": false
   },
   "outputs": [],
   "source": [
    "class Machine:\n",
    "    def __init__(self, n):\n",
    "        self.w = np.zeros(n)\n",
    "    def h(self, x):\n",
    "        #return np.sum(self.w * x)\n",
    "        return (self.w * x).sum(axis=1)\n",
    "    \n",
    "def t(x):\n",
    "    #seed = 123\n",
    "    #np.random.seed(seed)\n",
    "    #w = np.random.randint(-5, 6, n)\n",
    "    w = [3,2]\n",
    "    #return np.sum(w * x)\n",
    "    return (w * x).sum(axis=1)\n",
    "\n",
    "def gradient_descent(machine, t, training_set, alpha, iterations):\n",
    "    m = training_set.shape[0]\n",
    "    n = training_set.shape[1]\n",
    "    for i in range(0, iterations):\n",
    "        d = (machine.h(training_set) - t(training_set)).dot(training_set)\n",
    "        machine.w -= alpha * d / m\n",
    "\n",
    "def trainer(t, m, alpha, iterations, seed):\n",
    "    np.random.seed(seed)\n",
    "    training_set = np.random.randint(-5, 6, (m,1))\n",
    "    training_set = np.insert(training_set, 0, 1, axis=1)\n",
    "    print(training_set)\n",
    "    machine = Machine(n)\n",
    "    gradient_descent(machine, t, training_set, alpha, iterations)\n",
    "    print(machine.w)\n",
    "\n",
    "trainer(t, m = 3, alpha = 0.2, iterations = 30, seed = 876)"
   ]
  }
 ],
 "metadata": {
  "kernelspec": {
   "display_name": "Python [conda env:machine-learning]",
   "language": "python",
   "name": "conda-env-machine-learning-py"
  },
  "language_info": {
   "codemirror_mode": {
    "name": "ipython",
    "version": 3
   },
   "file_extension": ".py",
   "mimetype": "text/x-python",
   "name": "python",
   "nbconvert_exporter": "python",
   "pygments_lexer": "ipython3",
   "version": "3.5.2"
  }
 },
 "nbformat": 4,
 "nbformat_minor": 1
}
