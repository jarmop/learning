{
 "cells": [
  {
   "cell_type": "code",
   "execution_count": 2,
   "metadata": {
    "collapsed": true
   },
   "outputs": [],
   "source": [
    "import numpy as np # for numerical operations\n",
    "import matplotlib.pyplot as plt # for visualization (plotting)\n",
    "\n",
    "# to display plots inline (with the rest of the output) rather than in a separate window\n",
    "%matplotlib inline"
   ]
  },
  {
   "cell_type": "code",
   "execution_count": 4,
   "metadata": {
    "collapsed": false
   },
   "outputs": [
    {
     "name": "stdout",
     "output_type": "stream",
     "text": [
      "2.99597457535\n",
      "2.00016983747\n"
     ]
    }
   ],
   "source": [
    "class Machine:\n",
    "    a = 0\n",
    "    b = 0\n",
    "    def h(self, x):\n",
    "        return self.a + self.b * x\n",
    "    \n",
    "def gradient_descent(machine, t, training_set, alpha, iterations):\n",
    "    a_values = []\n",
    "    b_values = []\n",
    "    n = training_set.size\n",
    "    for i in range(0, iterations):\n",
    "        a_values.append(machine.a)\n",
    "        b_values.append(machine.b)\n",
    "        da = 0\n",
    "        db = 0\n",
    "        for x in training_set:\n",
    "            da += machine.h(x) - t(x)\n",
    "            db += (machine.h(x) - t(x)) * x\n",
    "        machine.a -= alpha * da / n\n",
    "        machine.b -= alpha * db / n\n",
    "\n",
    "def trainer(t, n, alpha, iterations, seed):\n",
    "    np.random.seed(seed)\n",
    "    training_set = np.random.randint(-5, 6, n)\n",
    "    machine = Machine()\n",
    "    gradient_descent(machine, t, training_set, alpha, iterations)\n",
    "    print(machine.a)\n",
    "    print(machine.b)\n",
    "\n",
    "trainer(lambda x: 3 + 2 * x, n = 3, alpha = 0.2, iterations = 30, seed = 876)"
   ]
  },
  {
   "cell_type": "markdown",
   "metadata": {},
   "source": [
    "$$\n",
    "\\begin{align}\n",
    "a &= a - \\frac{\\alpha}{n}\\displaystyle\\sum_{i=1}^n(h(x_i)-t(x_i)) \\\\\n",
    "b &= b - \\frac{\\alpha}{n}\\displaystyle\\sum_{i=1}^n(h(x_i)-t(x_i))x_i \\\\\n",
    "\\end{align}\n",
    "$$"
   ]
  },
  {
   "cell_type": "code",
   "execution_count": 5,
   "metadata": {
    "collapsed": false
   },
   "outputs": [
    {
     "name": "stdout",
     "output_type": "stream",
     "text": [
      "2.99597457535\n",
      "2.00016983747\n"
     ]
    }
   ],
   "source": [
    "def gradient_descent(machine, t, training_set, alpha, iterations):\n",
    "    a_values = []\n",
    "    b_values = []\n",
    "    n = training_set.size\n",
    "    for i in range(0, iterations):\n",
    "        a_values.append(machine.a)\n",
    "        b_values.append(machine.b)\n",
    "        da = 0\n",
    "        db = 0\n",
    "        for x in training_set:\n",
    "            da += machine.h(x) - t(x)\n",
    "            db += (machine.h(x) - t(x)) * x\n",
    "        machine.a -= alpha * da / n\n",
    "        machine.b -= alpha * db / n\n",
    "\n",
    "def trainer(t, n, alpha, iterations, seed):\n",
    "    np.random.seed(seed)\n",
    "    training_set = np.random.randint(-5, 6, n)\n",
    "    machine = Machine()\n",
    "    gradient_descent(machine, t, training_set, alpha, iterations)\n",
    "    print(machine.a)\n",
    "    print(machine.b)\n",
    "\n",
    "trainer(lambda x: 3 + 2 * x, n = 3, alpha = 0.2, iterations = 30, seed = 876)"
   ]
  }
 ],
 "metadata": {
  "kernelspec": {
   "display_name": "Python [conda env:machine-learning]",
   "language": "python",
   "name": "conda-env-machine-learning-py"
  },
  "language_info": {
   "codemirror_mode": {
    "name": "ipython",
    "version": 3
   },
   "file_extension": ".py",
   "mimetype": "text/x-python",
   "name": "python",
   "nbconvert_exporter": "python",
   "pygments_lexer": "ipython3",
   "version": "3.5.2"
  }
 },
 "nbformat": 4,
 "nbformat_minor": 1
}
