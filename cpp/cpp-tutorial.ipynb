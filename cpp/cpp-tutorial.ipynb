{
 "cells": [
  {
   "cell_type": "markdown",
   "metadata": {},
   "source": [
    "# C++ tutorial\n",
    "\n",
    "A summary of the C++ tutorial found in http://www.cplusplus.com/doc/tutorial/"
   ]
  },
  {
   "cell_type": "code",
   "execution_count": 1,
   "metadata": {
    "collapsed": false
   },
   "outputs": [
    {
     "data": {
      "text/plain": []
     },
     "execution_count": 1,
     "metadata": {},
     "output_type": "execute_result"
    }
   ],
   "source": [
    "#include <iostream>\n",
    "\n",
    "using namespace std;"
   ]
  },
  {
   "cell_type": "markdown",
   "metadata": {},
   "source": [
    "## Fundamental data types\n",
    "\n",
    "| Group                    | Type names*                | Notes on size / precision                          |\n",
    "|--------------------------|----------------------------|----------------------------------------------------|\n",
    "| Character types          | **char**                   | Exactly one byte in size. At least 8 bits.         |\n",
    "|                          | **char16_t**               | Not smaller than char. At least 16 bits.           |\n",
    "|                          | **char32_t**               | Not smaller than char16_t. At least 32 bits.       |\n",
    "|                          | **wchar_t**                | Can represent the largest supported character set. |\n",
    "| Integer types (signed)   | **signed char**            | Same size as char. At least 8 bits.                |\n",
    "|                          | signed **short** int       | Not smaller than char. At least 16 bits.           |\n",
    "|                          | signed **int**             | Not smaller than short. At least 16 bits.          |\n",
    "|                          | signed **long** int        | Not smaller than int. At least 32 bits.            |\n",
    "|                          | signed **long long** int   | Not smaller than long. At least 64 bits.           |\n",
    "| Integer types (unsigned) | **unsigned char**          | same size as the signed counterpart                |\n",
    "|                          | **unsigned short** int     | ..                                                 |\n",
    "|                          | **unsigned** int           | ..                                                 |\n",
    "|                          | **unsigned long** int      | ..                                                 |\n",
    "|                          | **unsigned long long** int | ..                                                 |\n",
    "| Floating-point types     | **float**                  |                                                    |\n",
    "|                          | **double**                 | Precision not less than float                      |\n",
    "|                          | **long double**            | Precision not less than double                     |\n",
    "| Boolean types            | **bool**                   |                                                    |\n",
    "| Void type                | **void**                   | no storage                                         |\n",
    "| Null pointer             | **decltype(nullptr)**      |                                                    |\n",
    "* Only the bold part is needed in definition\n",
    "\n",
    "Actual sizes will vary across compilers and machines except for the char type which is always 8 bits."
   ]
  },
  {
   "cell_type": "markdown",
   "metadata": {},
   "source": [
    "### Character types\n",
    "\n",
    "Character types should print out as characters, but for some reason char16_t, char32_t and wchar_t print as numbers. Signed and unsigned chars are classified as integer types but they still print as characters."
   ]
  },
  {
   "cell_type": "markdown",
   "metadata": {},
   "source": [
    "Print sizes:"
   ]
  },
  {
   "cell_type": "code",
   "execution_count": 2,
   "metadata": {
    "collapsed": false
   },
   "outputs": [
    {
     "name": "stdout",
     "output_type": "stream",
     "text": [
      "Sizes:\n",
      "1\n",
      "2\n",
      "4\n",
      "4\n",
      "1\n",
      "1\n"
     ]
    },
    {
     "data": {
      "text/plain": [
       "(std::__1::basic_ostream &) @0x7fffa4297660\n"
      ]
     },
     "execution_count": 2,
     "metadata": {},
     "output_type": "execute_result"
    }
   ],
   "source": [
    "char c; // 1 byte\n",
    "char16_t c16t; // 2 bytes\n",
    "char32_t c32t; // 4 bytes\n",
    "wchar_t wc32t; // 4 bytes\n",
    "signed char signedChar; // 1 byte\n",
    "unsigned char unsignedChar; // 1 byte\n",
    "\n",
    "cout << \"Sizes:\" << endl;\n",
    "cout << sizeof(c) << endl;\n",
    "cout << sizeof(c16t) << endl;\n",
    "cout << sizeof(c32t) << endl;\n",
    "cout << sizeof(wc32t) << endl;\n",
    "cout << sizeof(signedChar) << endl;\n",
    "cout << sizeof(unsignedChar) << endl;"
   ]
  },
  {
   "cell_type": "markdown",
   "metadata": {},
   "source": [
    "Print content initialized with 'a':"
   ]
  },
  {
   "cell_type": "code",
   "execution_count": 3,
   "metadata": {
    "collapsed": false
   },
   "outputs": [
    {
     "name": "stdout",
     "output_type": "stream",
     "text": [
      "a\n",
      "97\n",
      "97\n",
      "97\n",
      "a\n",
      "a\n"
     ]
    },
    {
     "data": {
      "text/plain": [
       "(std::__1::basic_ostream &) @0x7fffa4297660\n"
      ]
     },
     "execution_count": 3,
     "metadata": {},
     "output_type": "execute_result"
    }
   ],
   "source": [
    "c = 'a';\n",
    "c16t = 'a';\n",
    "c32t = 'a';\n",
    "wc32t = 'a';\n",
    "signedChar = 'a';\n",
    "unsignedChar = 'a';\n",
    "\n",
    "cout << c << endl;\n",
    "cout << c16t << endl;\n",
    "cout << c32t << endl;\n",
    "cout << wc32t << endl;\n",
    "cout << signedChar << endl;\n",
    "cout << unsignedChar << endl;"
   ]
  },
  {
   "cell_type": "markdown",
   "metadata": {},
   "source": [
    "Print content initialized with 1:"
   ]
  },
  {
   "cell_type": "code",
   "execution_count": 4,
   "metadata": {
    "collapsed": false
   },
   "outputs": [
    {
     "name": "stdout",
     "output_type": "stream",
     "text": [
      "a\n",
      "97\n",
      "97\n",
      "97\n",
      "a\n",
      "a\n"
     ]
    },
    {
     "data": {
      "text/plain": [
       "(std::__1::basic_ostream &) @0x7fffa4297660\n"
      ]
     },
     "execution_count": 4,
     "metadata": {},
     "output_type": "execute_result"
    }
   ],
   "source": [
    "c = 97;\n",
    "c16t = 97;\n",
    "c32t = 97;\n",
    "wc32t = 97;\n",
    "signedChar = 97;\n",
    "unsignedChar = 97;\n",
    "\n",
    "cout << c << endl;\n",
    "cout << c16t << endl;\n",
    "cout << c32t << endl;\n",
    "cout << wc32t << endl;\n",
    "cout << signedChar << endl;\n",
    "cout << unsignedChar << endl;"
   ]
  },
  {
   "cell_type": "markdown",
   "metadata": {},
   "source": [
    "### Integer types"
   ]
  },
  {
   "cell_type": "markdown",
   "metadata": {},
   "source": [
    "Print sizes:"
   ]
  },
  {
   "cell_type": "code",
   "execution_count": 5,
   "metadata": {
    "collapsed": false
   },
   "outputs": [
    {
     "name": "stdout",
     "output_type": "stream",
     "text": [
      "2\n",
      "4\n",
      "8\n",
      "8\n",
      "2\n",
      "4\n",
      "8\n",
      "8\n"
     ]
    },
    {
     "data": {
      "text/plain": [
       "(std::__1::basic_ostream &) @0x7fffa4297660\n"
      ]
     },
     "execution_count": 5,
     "metadata": {},
     "output_type": "execute_result"
    }
   ],
   "source": [
    "short s;\n",
    "int i;\n",
    "long l;\n",
    "long long l2;\n",
    "unsigned short us;\n",
    "unsigned int ui;\n",
    "unsigned long ul;\n",
    "unsigned long long ul2;\n",
    "\n",
    "cout << sizeof(s) << endl;\n",
    "cout << sizeof(i) << endl;\n",
    "cout << sizeof(l) << endl;\n",
    "cout << sizeof(l2) << endl;\n",
    "cout << sizeof(us) << endl;\n",
    "cout << sizeof(ui) << endl;\n",
    "cout << sizeof(ul) << endl;\n",
    "cout << sizeof(ul2) << endl;"
   ]
  },
  {
   "cell_type": "markdown",
   "metadata": {},
   "source": [
    "Print content initialized with 1:"
   ]
  },
  {
   "cell_type": "code",
   "execution_count": 6,
   "metadata": {
    "collapsed": false
   },
   "outputs": [
    {
     "name": "stdout",
     "output_type": "stream",
     "text": [
      "Initialized with 1:\n",
      "1\n",
      "1\n",
      "1\n",
      "1\n",
      "1\n",
      "1\n",
      "1\n",
      "1\n"
     ]
    },
    {
     "data": {
      "text/plain": [
       "(std::__1::basic_ostream &) @0x7fffa4297660\n"
      ]
     },
     "execution_count": 6,
     "metadata": {},
     "output_type": "execute_result"
    }
   ],
   "source": [
    "s = 1;\n",
    "i = 1;\n",
    "l = 1;\n",
    "l2 = 1;\n",
    "us = 1;\n",
    "ui = 1;\n",
    "ul = 1;\n",
    "ul2 = 1;\n",
    "\n",
    "cout << \"Initialized with 1:\" << endl;\n",
    "cout << s << endl;\n",
    "cout << i << endl;\n",
    "cout << l << endl;\n",
    "cout << l2 << endl;\n",
    "cout << us << endl;\n",
    "cout << ui << endl;\n",
    "cout << ul << endl;\n",
    "cout << ul2 << endl;"
   ]
  },
  {
   "cell_type": "markdown",
   "metadata": {},
   "source": [
    "### Other types\n",
    "\n",
    "Decltype can be used to get type from a previously declared variable."
   ]
  },
  {
   "cell_type": "code",
   "execution_count": 7,
   "metadata": {
    "collapsed": false
   },
   "outputs": [
    {
     "name": "stdout",
     "output_type": "stream",
     "text": [
      "4\n",
      "8\n",
      "16\n",
      "1\n",
      "1\n"
     ]
    },
    {
     "data": {
      "text/plain": [
       "(std::__1::basic_ostream &) @0x7fffa4297660\n"
      ]
     },
     "execution_count": 7,
     "metadata": {},
     "output_type": "execute_result"
    }
   ],
   "source": [
    "float f;\n",
    "double d;\n",
    "long double ld;\n",
    "bool b;\n",
    "decltype(b) b2; // something weird\n",
    "\n",
    "cout << sizeof(f) << endl;\n",
    "cout << sizeof(d) << endl;\n",
    "cout << sizeof(ld) << endl;\n",
    "cout << sizeof(b) << endl;\n",
    "cout << sizeof(b2) << endl;"
   ]
  },
  {
   "cell_type": "markdown",
   "metadata": {},
   "source": [
    "## Declaring variables"
   ]
  },
  {
   "cell_type": "code",
   "execution_count": 8,
   "metadata": {
    "collapsed": false
   },
   "outputs": [
    {
     "data": {
      "text/plain": [
       "(int) 0\n"
      ]
     },
     "execution_count": 8,
     "metadata": {},
     "output_type": "execute_result"
    }
   ],
   "source": [
    "int i1, i2, i3;"
   ]
  },
  {
   "cell_type": "markdown",
   "metadata": {},
   "source": [
    "## Initializing variables\n",
    "\n",
    "All three ways of initializing variables are valid and equivalent."
   ]
  },
  {
   "cell_type": "code",
   "execution_count": 9,
   "metadata": {
    "collapsed": false
   },
   "outputs": [
    {
     "data": {
      "text/plain": [
       "(int) 0\n"
      ]
     },
     "execution_count": 9,
     "metadata": {},
     "output_type": "execute_result"
    }
   ],
   "source": [
    "int x1 = 0; // basic initialization\n",
    "int x2 (0); // constructor initialization\n",
    "int x3 {0}; // uniform initialization"
   ]
  },
  {
   "cell_type": "markdown",
   "metadata": {},
   "source": [
    "## Type deduction: auto and decltype\n",
    "\n",
    "Type \"auto\" can be used to deduct the actual type on initialization."
   ]
  },
  {
   "cell_type": "code",
   "execution_count": 10,
   "metadata": {
    "collapsed": false
   },
   "outputs": [
    {
     "name": "stdout",
     "output_type": "stream",
     "text": [
      "1\n",
      "1\n",
      "0\n"
     ]
    },
    {
     "data": {
      "text/plain": [
       "(std::__1::basic_ostream &) @0x7fffa4297660\n"
      ]
     },
     "execution_count": 10,
     "metadata": {},
     "output_type": "execute_result"
    }
   ],
   "source": [
    "int foo = 1;\n",
    "auto bar = foo;\n",
    "decltype(foo) bar2;\n",
    "\n",
    "cout << foo << endl;\n",
    "cout << bar << endl;\n",
    "cout << bar2 << endl;"
   ]
  },
  {
   "cell_type": "markdown",
   "metadata": {},
   "source": [
    "# Constants"
   ]
  },
  {
   "cell_type": "markdown",
   "metadata": {},
   "source": [
    "## Literals\n",
    "\n",
    "5 is the literal here:"
   ]
  },
  {
   "cell_type": "code",
   "execution_count": 11,
   "metadata": {
    "collapsed": false
   },
   "outputs": [
    {
     "data": {
      "text/plain": [
       "(int) 5\n"
      ]
     },
     "execution_count": 11,
     "metadata": {},
     "output_type": "execute_result"
    }
   ],
   "source": [
    "int a = 5;"
   ]
  },
  {
   "cell_type": "markdown",
   "metadata": {},
   "source": [
    "Classes of literals: \n",
    "- integer\n",
    "- floating-point\n",
    "- characters\n",
    "- strings\n",
    "- Boolean\n",
    "- pointers\n",
    "- user-defined literals\n",
    "\n"
   ]
  },
  {
   "cell_type": "markdown",
   "metadata": {},
   "source": [
    "### Integer Numerals"
   ]
  },
  {
   "cell_type": "code",
   "execution_count": 12,
   "metadata": {
    "collapsed": false
   },
   "outputs": [
    {
     "name": "stdout",
     "output_type": "stream",
     "text": [
      "75\n",
      "75\n",
      "75\n"
     ]
    },
    {
     "data": {
      "text/plain": [
       "(std::__1::basic_ostream &) @0x7fffa4297660\n"
      ]
     },
     "execution_count": 12,
     "metadata": {},
     "output_type": "execute_result"
    }
   ],
   "source": [
    "int dec = 75; // decimal\n",
    "int oct = 0113; // octal\n",
    "int hex = 0x4b; // hexadecimal\n",
    "    \n",
    "cout << dec << endl;\n",
    "cout << oct << endl;\n",
    "cout << hex << endl;"
   ]
  },
  {
   "cell_type": "markdown",
   "metadata": {},
   "source": [
    "Suffixes may be appended to an integer literal to specify different integer type:"
   ]
  },
  {
   "cell_type": "code",
   "execution_count": 13,
   "metadata": {
    "collapsed": false
   },
   "outputs": [
    {
     "name": "stdout",
     "output_type": "stream",
     "text": [
      "4\n",
      "4\n",
      "-75\n",
      "4\n",
      "4\n",
      "4\n"
     ]
    },
    {
     "data": {
      "text/plain": [
       "(std::__1::basic_ostream &) @0x7fffa4297660\n"
      ]
     },
     "execution_count": 13,
     "metadata": {},
     "output_type": "execute_result"
    }
   ],
   "source": [
    "int suf = 75; // int\n",
    "int suf_u = -75u; // unsigned int\n",
    "int suf_l = 75l; // long\n",
    "int suf_ul = 75ul; // unsigned long\n",
    "int suf_lu = 75lu; // unsigned long\n",
    "\n",
    "cout << sizeof(suf) << endl;\n",
    "cout << sizeof(suf_u) << endl;\n",
    "cout << suf_u << endl;\n",
    "cout << sizeof(suf_l) << endl;\n",
    "cout << sizeof(suf_ul) << endl;\n",
    "cout << sizeof(suf_lu) << endl;"
   ]
  }
 ],
 "metadata": {
  "anaconda-cloud": {},
  "kernelspec": {
   "display_name": "C++11",
   "language": "",
   "name": "cling-c++11"
  },
  "language_info": {
   "codemirror_mode": "text/x-c++src",
   "file_extension": ".c++",
   "mimetype": " text/x-c++src",
   "name": "c++"
  }
 },
 "nbformat": 4,
 "nbformat_minor": 2
}
