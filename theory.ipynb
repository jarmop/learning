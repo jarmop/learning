{
 "cells": [
  {
   "cell_type": "markdown",
   "metadata": {},
   "source": [
    "The purpose of this text is to gain deep understanding of deep learning which is what the current hype in machine learning is all about. We will start from the simplest common sense principles and move gradually towards more complex concepts without taking anything for granted. The idea is not to go through all possible models in machine learning but to take the shortest path to deep learning. However to gain better insights on some of the core concepts that the deep learning is built-on we need to start with simpler models.\n",
    "\n",
    "Deep learning is used for classification but we'll start with prediction (linear regression) which is simpler. From prediction we'll move to the simplest form of classification called logistic regression. To tackle more demanding classification tasks we'll introduce neural networks and finally move to deep learning.\n",
    "\n",
    "# Linear regression\n",
    "\n",
    "Probably the simplest machine learning problem is trying to approximate a simple function, such as $y=wx$. Goal is to find the correct value of w based on a training set provided by the function that we are trying to approximate. In common machine learning terminology the function that we are trying to approximate is called the \"target\" $t(x)$ and the value we are trying to find is called the \"weight\" ($w$).\n",
    "\n",
    "The function to approximate the target function is called the \"hyphothesis\" ($h(x)$). To be able to find the correct hyphothesis we need to know the form of the function we are trying to approximate: $h(x)=wx$. The only thing we don't know is the value $w$.\n",
    "\n",
    "The basic idea is to use trial and error: start with some initial value of $w$ for the hyphothesis, and compare it's result to the correct value provided by the target.\n",
    "\n",
    "For example let's set $t(x)=2x$, $h(x)=wx$, $w=0$, $x=1$. (It doesn't matter what values we choose for $w$ or $x$)\n",
    "\n",
    "Let's test the hyphothesis: $h(x)=wx<=>0*1=0$  \n",
    "\n",
    "The correct value would be: $t(x)=5x<=>2*1=2$\n",
    "\n",
    "Now how can the computer come up with the correct value of w based on these results?\n",
    "\n",
    "The machine needs to know direction and distance: $h(1)-t(1)=-2$\n"
   ]
  },
  {
   "cell_type": "code",
   "execution_count": 1,
   "metadata": {
    "collapsed": false
   },
   "outputs": [
    {
     "name": "stdout",
     "output_type": "stream",
     "text": [
      "0\n",
      "2\n"
     ]
    }
   ],
   "source": [
    "def t(x):\n",
    "    return 2*x\n",
    "\n",
    "class H:\n",
    "    w = 0\n",
    "    def out(self, x):\n",
    "        return self.w*x\n",
    "\n",
    "h = H()    \n",
    "print(h.out(1))\n",
    "\n",
    "h.w = t(1) - h.out(1)\n",
    "print(h.out(1))"
   ]
  },
  {
   "cell_type": "markdown",
   "metadata": {},
   "source": [
    "Now this is hardly machine learning. We can tackle this problem with machine learning but it is so simple that it is easy to tackle by conventional programming.\n",
    "\n",
    "What if instead of having a smooth straight line as a target, we would have a bunch of samples that won't fall exactly on a straight line."
   ]
  },
  {
   "cell_type": "code",
   "execution_count": 14,
   "metadata": {
    "collapsed": false
   },
   "outputs": [
    {
     "name": "stdout",
     "output_type": "stream",
     "text": [
      "[0.2908354889926732, 2.1862473453103464, 3.352128586469175, 6.55059315150507, 8.495503996817712, 9.43926378750376, 11.928475086160722, 13.400796317922573, 15.828147081270984, 17.306297610466075]\n"
     ]
    },
    {
     "data": {
      "image/png": "[encoded data removed]",
      "text/plain": [
       "<matplotlib.figure.Figure at 0x10d4dd400>"
      ]
     },
     "metadata": {},
     "output_type": "display_data"
    }
   ],
   "source": [
    "import random\n",
    "import matplotlib.pyplot as plt\n",
    "%matplotlib inline\n",
    "\n",
    "def t(x):\n",
    "    return 2 * x\n",
    "\n",
    "samples = []\n",
    "approximation = []\n",
    "random.seed(65767)\n",
    "for x in range(0,10):\n",
    "    samples.append(t(x) + random.uniform(-1,1))\n",
    "    approximation.append(t(x))\n",
    "    \n",
    "print(samples)    \n",
    "\n",
    "plt.plot(samples, 'ro')\n",
    "plt.plot(approximation)\n",
    "plt.show()"
   ]
  },
  {
   "cell_type": "markdown",
   "metadata": {},
   "source": [
    "# Logistic regression\n",
    "\n",
    "# Neural networks\n",
    "\n",
    "# Deep learning"
   ]
  }
 ],
 "metadata": {
  "anaconda-cloud": {},
  "kernelspec": {
   "display_name": "Python [machine-learning]",
   "language": "python",
   "name": "Python [machine-learning]"
  },
  "language_info": {
   "codemirror_mode": {
    "name": "ipython",
    "version": 3
   },
   "file_extension": ".py",
   "mimetype": "text/x-python",
   "name": "python",
   "nbconvert_exporter": "python",
   "pygments_lexer": "ipython3",
   "version": "3.5.2"
  }
 },
 "nbformat": 4,
 "nbformat_minor": 0
}
