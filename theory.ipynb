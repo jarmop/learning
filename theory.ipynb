{
 "cells": [
  {
   "cell_type": "markdown",
   "metadata": {},
   "source": [
    "The purpose of this text is to gain deep understanding of deep learning which is what the current hype in machine learning is all about. We will start from the simplest common sense principles and move gradually towards more complex concepts without taking anything for granted. The idea is not to go through all possible models in machine learning but to take the shortest path to deep learning. However to gain better insights on some of the core concepts that the deep learning is built-on we need to start with simpler models.\n",
    "\n",
    "Deep learning is used for classification but we'll start with prediction (linear regression) which is simpler. From prediction we'll move to the simplest form of classification called logistic regression. To tackle more demanding classification tasks we'll introduce neural networks and finally move to deep learning.\n",
    "\n",
    "# Linear regression\n",
    "\n",
    "Probably the simplest machine learning problem is trying to approximate a simple function, such as $y=wx$. Goal is to find the correct value of w based on a training set provided by the function that we are trying to approximate. In common machine learning terminology the function that we are trying to approximate is called the \"target\" $t(x)$ and the value we are trying to find is called the \"weight\" ($w$).\n",
    "\n",
    "The function to approximate the target function is called the \"hyphothesis\" ($h(x)$). To be able to find the correct hyphothesis we need to know the form of the function we are trying to approximate: $h(x)=wx$. The only thing we don't know is the value $w$.\n",
    "\n",
    "The basic idea is to use trial and error: start with some initial value of $w$ for the hyphothesis, and compare it's result to the correct value provided by the target.\n",
    "\n",
    "For example let's set $t(x)=2x$, $h(x)=wx$, $w=0$, $x=1$. (It doesn't matter what values we choose for $w$ or $x$)\n",
    "\n",
    "Let's test the hyphothesis: $h(x)=wx<=>0*1=0$  \n",
    "\n",
    "The correct value would be: $t(x)=5x<=>2*1=2$\n",
    "\n",
    "Now how can the computer come up with the correct value of w based on these results?\n",
    "\n",
    "The machine needs to know direction and distance: $-(h(1)-t(1))=2$\n"
   ]
  },
  {
   "cell_type": "code",
   "execution_count": 17,
   "metadata": {
    "collapsed": false
   },
   "outputs": [
    {
     "name": "stdout",
     "output_type": "stream",
     "text": [
      "0\n",
      "2\n"
     ]
    }
   ],
   "source": [
    "def t(x):\n",
    "    return 2*x\n",
    "\n",
    "class H:\n",
    "    w = 0\n",
    "    def out(self, x):\n",
    "        return self.w*x\n",
    "\n",
    "h = H()    \n",
    "print(h.out(1))\n",
    "\n",
    "h.w =  - (h.out(1) - t(1))\n",
    "print(h.out(1))"
   ]
  },
  {
   "cell_type": "markdown",
   "metadata": {},
   "source": [
    "Now this is hardly machine learning. We can tackle this problem with machine learning but it is so simple that it is easy to tackle by conventional programming.\n",
    "\n",
    "How about $h(x)=w_1+w_2x$ $t(x)=1+2x$\n",
    "\n",
    "$h(1)=0+0*1=0$  \n",
    "$t(1)=1+2*1=3$\n",
    "\n",
    "Now we need to know how to adjust two variables and things get a lot more difficult. We know the form of the target function and the difference between the target and the current hyphothesis, but it is not obvious how we should adjust the variables to improve the hyphothesis.\n",
    "\n",
    "There are multiple solutions, such as: $w_1=0,w_2=3$ or $w_1=3,w_2=0$ or $w_1=5,w_2=-2$\n",
    "\n",
    "To get the correct solution we need another sample:\n",
    "$t(2)=1+2*2=5$\n",
    "\n",
    "All above solutions will fail when including $x=2$ sample.\n",
    "\n",
    "This kind of testing is a bit complicated algorithm for finding the correct values. Luckily there is a quite simple algorithm which takes us to one of the fundamental methods of machine learning."
   ]
  },
  {
   "cell_type": "markdown",
   "metadata": {},
   "source": [
    "# Gradient descent\n",
    "\n",
    "It's hard to know how much each variable w should be changed but it's quite easy to tell in which direction they should go. Derivation is a method for getting the slope of a function ie. the rate of change of a function. So if we take a derivative of the difference between h and t with respect to a given variable w we get the direction where to move: if derivative is negative we need to increase w, if it's positive we need to decrease w.\n",
    "\n",
    "Lets describe function $l(w_1,w_2)$ as the difference between h and t. The term difference is commonly replaced with terms loss or cost. We shall use the term loss from now on. To find the correct value of $w$ is to find the minimum of the loss function."
   ]
  },
  {
   "cell_type": "code",
   "execution_count": 23,
   "metadata": {
    "collapsed": false
   },
   "outputs": [
    {
     "name": "stdout",
     "output_type": "stream",
     "text": [
      "[18, 9, 0, 9, 18, 27, 36, 45, 54, 63]\n"
     ]
    },
    {
     "data": {
      "image/png": "[encoded data removed]",
      "text/plain": [
       "<matplotlib.figure.Figure at 0x10db73e10>"
      ]
     },
     "metadata": {},
     "output_type": "display_data"
    }
   ],
   "source": [
    "def t(x):\n",
    "    return 2 * x\n",
    "\n",
    "def h(w, x):\n",
    "    return w * x\n",
    "\n",
    "difference = []\n",
    "for w in range(0,10):\n",
    "    difference.append(abs(h(w,x) - t(x)))\n",
    "\n",
    "print(difference)\n",
    "plt.plot(difference)\n",
    "plt.xlabel('w')\n",
    "plt.ylabel('difference')\n",
    "plt.show()"
   ]
  },
  {
   "cell_type": "markdown",
   "metadata": {},
   "source": [
    "Loss doesn't have to be the exact difference, it's just needs to give some idea of how bad the hyphothesis is doing. For taking the derivative it's a bit simpler if we use square of the difference instead of the absolute value of the difference:\n",
    "\n",
    "$l$ can be described with any set of parameters depending on which parameters are considered constants and which are consider variables: $l(w_1,w_1,y)$\n",
    "\n",
    "$l=(h-t)^2$\n",
    "\n",
    "We need to take derivatives separately for each value of $w$, this is called taking partial derivatives.\n",
    "\n",
    "Partial derivative of l with respect to w_1 can be denoted in various ways:\n",
    "\n",
    "$l'_{w1}=2(h-t)h_{w1}'=2(h-t)$ \n",
    "\n",
    "$l'_{w2}=2(h-t)h_{w2}'=2(h-t)x$\n",
    "\n",
    "Group of the partial derivatives is called the gradient:\n",
    "\n",
    "$\n",
    "\\nabla{l}=\n",
    "\\begin{cases}\n",
    "l'_{w1} \\\\\n",
    "l'_{w2} \\\\\n",
    "\\end{cases}\n",
    "$\n",
    "\n",
    "We are using the gradient to minimize the loss function, hence the term **gradient descent**."
   ]
  },
  {
   "cell_type": "markdown",
   "metadata": {},
   "source": [
    "What if instead of having a smooth straight line as a target, we would have a bunch of samples that won't fall exactly on a straight line."
   ]
  },
  {
   "cell_type": "code",
   "execution_count": 15,
   "metadata": {
    "collapsed": false
   },
   "outputs": [
    {
     "name": "stdout",
     "output_type": "stream",
     "text": [
      "[0.5816709779853464, 2.3724946906206923, 2.7042571729383504, 7.10118630301014, 8.991007993635424, 8.878527575007519, 11.856950172321444, 12.801592635845147, 15.65629416254197, 16.61259522093215]\n"
     ]
    },
    {
     "data": {
      "image/png": "[encoded data removed]",
      "text/plain": [
       "<matplotlib.figure.Figure at 0x10d719550>"
      ]
     },
     "metadata": {},
     "output_type": "display_data"
    }
   ],
   "source": [
    "import random\n",
    "import matplotlib.pyplot as plt\n",
    "%matplotlib inline\n",
    "\n",
    "def t(x):\n",
    "    return 2 * x\n",
    "\n",
    "samples = []\n",
    "approximation = []\n",
    "random.seed(65767)\n",
    "for x in range(0,10):\n",
    "    samples.append(t(x) + random.uniform(-2,2))\n",
    "    approximation.append(t(x))\n",
    "    \n",
    "print(samples)    \n",
    "\n",
    "plt.plot(samples, 'ro')\n",
    "plt.plot(approximation)\n",
    "plt.show()"
   ]
  },
  {
   "cell_type": "markdown",
   "metadata": {},
   "source": [
    "mathematical approach?\n",
    "\n",
    "When learning new things you would like to start with a simple example. The problem with machine learning is that it is meant for hard problems. To really see machine learning in action you need complex examples.\n",
    "\n",
    "To see why machine learning is useful we start from simple problems and gradually move towards more complex problems by using conventional programming to solve problems. Eventually we'll arrive into such problem where machine learning will actually be the simplest and most efficient method for solving the problem.\n",
    "\n",
    "or is a + bx already hard enough?\n",
    "\n"
   ]
  },
  {
   "cell_type": "markdown",
   "metadata": {},
   "source": [
    "# Logistic regression\n",
    "\n",
    "# Neural networks\n",
    "\n",
    "# Deep learning"
   ]
  }
 ],
 "metadata": {
  "anaconda-cloud": {},
  "kernelspec": {
   "display_name": "Python [machine-learning]",
   "language": "python",
   "name": "Python [machine-learning]"
  },
  "language_info": {
   "codemirror_mode": {
    "name": "ipython",
    "version": 3
   },
   "file_extension": ".py",
   "mimetype": "text/x-python",
   "name": "python",
   "nbconvert_exporter": "python",
   "pygments_lexer": "ipython3",
   "version": "3.5.2"
  }
 },
 "nbformat": 4,
 "nbformat_minor": 0
}
