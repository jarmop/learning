{
 "cells": [
  {
   "cell_type": "markdown",
   "metadata": {},
   "source": [
    "The purpose of this text is to gain deep understanding of deep learning which is what the current hype in machine learning is all about. We will start from the simplest common sense principles and move gradually towards more complex concepts without taking anything for granted. The idea is not to go through all possible models in machine learning but to take the shortest path to deep learning. However to gain better insights on some of the core concepts that the deep learning is built-on we need to start with simpler models.\n",
    "\n",
    "Deep learning is used for classification but we'll start with prediction (linear regression) which is simpler. From prediction we'll move to the simplest form of classification called logistic regression. To tackle more demanding classification tasks we'll introduce neural networks and finally move to deep learning.\n",
    "\n",
    "# Linear regression\n",
    "\n",
    "Probably the simplest machine learning problem is trying to approximate a simple function, such as $y=wx$. Goal is to find the correct value of w based on a training set provided by the function that we are trying to approximate. In common machine learning terminology the function that we are trying to approximate is called the \"target\" $t(x)$ and the value we are trying to find is called the \"weight\" ($w$).\n",
    "\n",
    "The function to approximate the target function is called the \"hyphothesis\" ($h(x)$). To be able to find the correct hyphothesis we need to know the form of the function we are trying to approximate: $h(x)=wx$. The only thing we don't know is the value $w$.\n",
    "\n",
    "The basic idea is to use trial and error: start with some initial value of $w$ for the hyphothesis, and compare it's result to the correct value provided by the target.\n",
    "\n",
    "For example let's set $t(x)=5x$, $h(x)=wx$, $w=0$, $x=1$. (It doesn't matter what values we choose for $w$ or $x$)\n",
    "\n",
    "Let's test the hyphothesis:  \n",
    "$h(x)=wx=0*1=0$  \n",
    "The correct value would be:  \n",
    "$t(x)=5x=5*1=5$\n",
    "\n",
    "gwe  \n",
    "egr\n",
    "\n",
    "# Logistic regression\n",
    "\n",
    "# Neural networks\n",
    "\n",
    "# Deep learning"
   ]
  }
 ],
 "metadata": {
  "anaconda-cloud": {},
  "kernelspec": {
   "display_name": "Python [machine-learning]",
   "language": "python",
   "name": "Python [machine-learning]"
  },
  "language_info": {
   "codemirror_mode": {
    "name": "ipython",
    "version": 3
   },
   "file_extension": ".py",
   "mimetype": "text/x-python",
   "name": "python",
   "nbconvert_exporter": "python",
   "pygments_lexer": "ipython3",
   "version": "3.5.2"
  }
 },
 "nbformat": 4,
 "nbformat_minor": 0
}
