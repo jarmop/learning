{
 "cells": [
  {
   "cell_type": "code",
   "execution_count": 2,
   "metadata": {
    "collapsed": false
   },
   "outputs": [],
   "source": [
    "import numpy as np"
   ]
  },
  {
   "cell_type": "code",
   "execution_count": 36,
   "metadata": {
    "collapsed": false
   },
   "outputs": [
    {
     "name": "stdout",
     "output_type": "stream",
     "text": [
      "[9 3 7 6 2 5 1 5 9 2]\n",
      "[1 2 2 3 5 5 6 7 9 9]\n"
     ]
    }
   ],
   "source": [
    "# Bubble sort\n",
    "\n",
    "def bubbleSort(data):\n",
    "    unsortedLength = len(data)\n",
    "    swapped = True\n",
    "    while swapped:\n",
    "        swapped = False\n",
    "        for i in range(1,unsortedLength):\n",
    "            if data[i-1] > data[i]:\n",
    "                swapped = True\n",
    "                temp = data[i-1]\n",
    "                data[i-1] = data[i]\n",
    "                data[i] = temp\n",
    "        unsortedLength = unsortedLength - 1   \n",
    "                \n",
    "\n",
    "data = np.random.randint(10, size=10)\n",
    "print (data)\n",
    "bubbleSort(data)\n",
    "print (data)"
   ]
  }
 ],
 "metadata": {
  "anaconda-cloud": {},
  "kernelspec": {
   "display_name": "Python 3",
   "language": "python",
   "name": "python3"
  },
  "language_info": {
   "codemirror_mode": {
    "name": "ipython",
    "version": 3
   },
   "file_extension": ".py",
   "mimetype": "text/x-python",
   "name": "python",
   "nbconvert_exporter": "python",
   "pygments_lexer": "ipython3",
   "version": "3.5.2"
  }
 },
 "nbformat": 4,
 "nbformat_minor": 0
}
