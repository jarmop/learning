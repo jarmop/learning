{
 "cells": [
  {
   "cell_type": "code",
   "execution_count": 77,
   "metadata": {
    "collapsed": false
   },
   "outputs": [],
   "source": [
    "import numpy as np\n",
    "import math"
   ]
  },
  {
   "cell_type": "code",
   "execution_count": 37,
   "metadata": {
    "collapsed": false
   },
   "outputs": [
    {
     "name": "stdout",
     "output_type": "stream",
     "text": [
      "[1 0 4 1 0 7 5 4 9 3]\n",
      "[0 0 1 1 3 4 4 5 7 9]\n"
     ]
    }
   ],
   "source": [
    "# Bubble sort\n",
    "\n",
    "def bubbleSort(data):\n",
    "    unsortedLength = len(data)\n",
    "    swapped = True\n",
    "    while swapped:\n",
    "        swapped = False\n",
    "        for i in range(1,unsortedLength):\n",
    "            if data[i-1] > data[i]:\n",
    "                swapped = True\n",
    "                temp = data[i-1]\n",
    "                data[i-1] = data[i]\n",
    "                data[i] = temp\n",
    "        unsortedLength = unsortedLength - 1   \n",
    "                \n",
    "\n",
    "data = np.random.randint(10, size=10)\n",
    "print (data)\n",
    "bubbleSort(data)\n",
    "print (data)"
   ]
  },
  {
   "cell_type": "code",
   "execution_count": 80,
   "metadata": {
    "collapsed": false
   },
   "outputs": [
    {
     "name": "stdout",
     "output_type": "stream",
     "text": [
      "[1 1 3 4 4 2 7 6 8 2]\n",
      "[1 1 2 2 3 4 4 6 7 8]\n"
     ]
    }
   ],
   "source": [
    "# Merge sort\n",
    "def merge(data, iStart, iMiddle, iEnd):\n",
    "    mergedData = []\n",
    "    i1 = iStart\n",
    "    i2 = iMiddle\n",
    "    while i1 < iMiddle or i2 < iEnd:\n",
    "        if i2 == iEnd or (i1 < iMiddle and data[i1] < data[i2]):\n",
    "            mergedData.append(data[i1])\n",
    "            i1 += 1\n",
    "        else:\n",
    "            mergedData.append(data[i2])\n",
    "            i2 += 1\n",
    "\n",
    "    data[iStart:iEnd] = mergedData\n",
    "\n",
    "def mergeSort(data, iStart=None, iEnd=None):\n",
    "    iStart = iStart if iStart else 0\n",
    "    iEnd = iEnd if iEnd else len(data)\n",
    "    if iEnd - iStart < 2:\n",
    "        return data[0]\n",
    "    else:\n",
    "        iMiddle = math.ceil(iStart + ((iEnd - iStart) / 2))\n",
    "        mergeSort(data, iStart, iMiddle)\n",
    "        mergeSort(data, iMiddle, iEnd)\n",
    "        merge(data, iStart, iMiddle, iEnd)\n",
    "\n",
    "\n",
    "data = np.random.randint(10, size=10)\n",
    "print(data)\n",
    "mergeSort(data)\n",
    "print(data)"
   ]
  }
 ],
 "metadata": {
  "anaconda-cloud": {},
  "kernelspec": {
   "display_name": "Python 3",
   "language": "python",
   "name": "python3"
  },
  "language_info": {
   "codemirror_mode": {
    "name": "ipython",
    "version": 3
   },
   "file_extension": ".py",
   "mimetype": "text/x-python",
   "name": "python",
   "nbconvert_exporter": "python",
   "pygments_lexer": "ipython3",
   "version": "3.5.2"
  }
 },
 "nbformat": 4,
 "nbformat_minor": 0
}
