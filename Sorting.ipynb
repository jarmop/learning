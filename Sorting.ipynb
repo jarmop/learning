{
 "cells": [
  {
   "cell_type": "code",
   "execution_count": 77,
   "metadata": {
    "collapsed": false
   },
   "outputs": [],
   "source": [
    "import numpy as np\n",
    "import math"
   ]
  },
  {
   "cell_type": "code",
   "execution_count": 37,
   "metadata": {
    "collapsed": false
   },
   "outputs": [
    {
     "name": "stdout",
     "output_type": "stream",
     "text": [
      "[1 0 4 1 0 7 5 4 9 3]\n",
      "[0 0 1 1 3 4 4 5 7 9]\n"
     ]
    }
   ],
   "source": [
    "# Bubble sort\n",
    "\n",
    "def bubbleSort(data):\n",
    "    unsortedLength = len(data)\n",
    "    swapped = True\n",
    "    while swapped:\n",
    "        swapped = False\n",
    "        for i in range(1,unsortedLength):\n",
    "            if data[i-1] > data[i]:\n",
    "                swapped = True\n",
    "                temp = data[i-1]\n",
    "                data[i-1] = data[i]\n",
    "                data[i] = temp\n",
    "        unsortedLength = unsortedLength - 1   \n",
    "                \n",
    "\n",
    "data = np.random.randint(10, size=10)\n",
    "print (data)\n",
    "bubbleSort(data)\n",
    "print (data)"
   ]
  },
  {
   "cell_type": "code",
   "execution_count": 81,
   "metadata": {
    "collapsed": false
   },
   "outputs": [
    {
     "name": "stdout",
     "output_type": "stream",
     "text": [
      "[2 9 3 9 0 7 0 7 4 4]\n",
      "[0 0 2 3 4 4 7 7 9 9]\n"
     ]
    }
   ],
   "source": [
    "# Merge sort\n",
    "\n",
    "def merge(data, iStart, iMiddle, iEnd):\n",
    "    mergedData = []\n",
    "    i1 = iStart\n",
    "    i2 = iMiddle\n",
    "    while i1 < iMiddle or i2 < iEnd:\n",
    "        if i2 == iEnd or (i1 < iMiddle and data[i1] < data[i2]):\n",
    "            mergedData.append(data[i1])\n",
    "            i1 += 1\n",
    "        else:\n",
    "            mergedData.append(data[i2])\n",
    "            i2 += 1\n",
    "\n",
    "    data[iStart:iEnd] = mergedData\n",
    "\n",
    "def mergeSort(data, iStart=None, iEnd=None):\n",
    "    iStart = iStart if iStart else 0\n",
    "    iEnd = iEnd if iEnd else len(data)\n",
    "    if iEnd - iStart < 2:\n",
    "        return data[0]\n",
    "    else:\n",
    "        iMiddle = math.ceil(iStart + ((iEnd - iStart) / 2))\n",
    "        mergeSort(data, iStart, iMiddle)\n",
    "        mergeSort(data, iMiddle, iEnd)\n",
    "        merge(data, iStart, iMiddle, iEnd)\n",
    "\n",
    "\n",
    "data = np.random.randint(10, size=10)\n",
    "print(data)\n",
    "mergeSort(data)\n",
    "print(data)"
   ]
  },
  {
   "cell_type": "code",
   "execution_count": null,
   "metadata": {
    "collapsed": true
   },
   "outputs": [],
   "source": [
    "# Heap sort\n",
    "\n",
    "def calc_i_left_child(i):\n",
    "    return 2 * i + 1\n",
    "\n",
    "def calc_i_right_child(i):\n",
    "    return calc_i_left_child(i) + 1\n",
    "\n",
    "# swap parent with the biggest child\n",
    "def sift_down(data, iParent, iEnd):\n",
    "    i_left_child = calc_i_left_child(iParent)\n",
    "    i_right_child = calc_i_right_child(iParent)\n",
    "\n",
    "    i_biggest_child = None\n",
    "    if i_left_child < iEnd and (i_right_child >= iEnd or data[i_left_child] > data[i_right_child]):\n",
    "        i_biggest_child = i_left_child\n",
    "    elif i_right_child < iEnd:\n",
    "        i_biggest_child = i_right_child\n",
    "\n",
    "    if i_biggest_child and data[iParent] < data[i_biggest_child]:\n",
    "        temp = data[iParent]\n",
    "        data[iParent] = data[i_biggest_child]\n",
    "        data[i_biggest_child] = temp\n",
    "        sift_down(data, i_biggest_child, iEnd)\n",
    "\n",
    "def heapify(data, iParent, iEnd):\n",
    "    if (iParent < iEnd):\n",
    "        heapify(data, calc_i_left_child(iParent), iEnd)\n",
    "        heapify(data, calc_i_right_child(iParent), iEnd)\n",
    "        sift_down(data, iParent, iEnd)\n",
    "\n",
    "def heapSort(data):\n",
    "    i_end_unsorted = len(data)\n",
    "    heapify(data, 0, i_end_unsorted)\n",
    "    while i_end_unsorted > 0 and data[0] > data[i_end_unsorted - 1]:\n",
    "        temp = data[0]\n",
    "        data[0] = data[i_end_unsorted - 1]\n",
    "        data[i_end_unsorted - 1] = temp\n",
    "        i_end_unsorted -= 1\n",
    "        heapify(data, 0, i_end_unsorted)\n",
    "\n",
    "data = np.random.randint(10, size=10)\n",
    "print(data)\n",
    "heapSort(data)\n",
    "print(data)"
   ]
  }
 ],
 "metadata": {
  "anaconda-cloud": {},
  "kernelspec": {
   "display_name": "Python 3",
   "language": "python",
   "name": "python3"
  },
  "language_info": {
   "codemirror_mode": {
    "name": "ipython",
    "version": 3
   },
   "file_extension": ".py",
   "mimetype": "text/x-python",
   "name": "python",
   "nbconvert_exporter": "python",
   "pygments_lexer": "ipython3",
   "version": "3.5.2"
  }
 },
 "nbformat": 4,
 "nbformat_minor": 0
}
