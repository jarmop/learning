{
 "cells": [
  {
   "cell_type": "markdown",
   "metadata": {},
   "source": [
    "Informal introduction to machine learning aka machine learning for the stupid (mainly myself)."
   ]
  },
  {
   "cell_type": "code",
   "execution_count": 1,
   "metadata": {
    "collapsed": false
   },
   "outputs": [],
   "source": [
    "import numpy as np # for numerical operations\n",
    "import matplotlib.pyplot as plt # for visualization (plotting)\n",
    "\n",
    "# to display plots inline (with the rest of the output) rather than in a separate window\n",
    "%matplotlib inline"
   ]
  },
  {
   "cell_type": "markdown",
   "metadata": {},
   "source": [
    "For our simple introductory problem our goal is to build a machine that is capable of approximating functions that take the form $a+bx$. The machine is often called hyphothesis function, ie. the machine provides a hyphothesis of the actual function: $h(x)=a+bx$."
   ]
  },
  {
   "cell_type": "code",
   "execution_count": 2,
   "metadata": {
    "collapsed": true
   },
   "outputs": [],
   "source": [
    "class Machine:\n",
    "    a = 0\n",
    "    b = 0\n",
    "    def h(self, x):\n",
    "        return self.a + self.b * x"
   ]
  },
  {
   "cell_type": "markdown",
   "metadata": {},
   "source": [
    "For the actual function to approximate by the hyphothesis function we could pick something like $f(x)=3+2x$."
   ]
  },
  {
   "cell_type": "code",
   "execution_count": 3,
   "metadata": {
    "collapsed": true
   },
   "outputs": [],
   "source": [
    "def f(x):\n",
    "    return 3 + 2 * x"
   ]
  },
  {
   "cell_type": "markdown",
   "metadata": {},
   "source": [
    "Lets create a training set of random values, and then compare the values provided by the hyphothesis function $h(x)$ to the correct values provided by the actual function $f(x)$."
   ]
  },
  {
   "cell_type": "code",
   "execution_count": 4,
   "metadata": {
    "collapsed": false
   },
   "outputs": [
    {
     "name": "stdout",
     "output_type": "stream",
     "text": [
      "[-3  0  4]\n"
     ]
    },
    {
     "data": {
      "image/png": "[encoded data removed]",
      "text/plain": [
       "<matplotlib.figure.Figure at 0x1049b8828>"
      ]
     },
     "metadata": {},
     "output_type": "display_data"
    }
   ],
   "source": [
    "n = 3 # number of training samples\n",
    "np.random.seed(876)\n",
    "training_set = np.random.randint(-5, 6, n)\n",
    "print(training_set)\n",
    "\n",
    "# Calculate the values of h and f for each value in the training set\n",
    "machine = Machine()\n",
    "h_values = []\n",
    "f_values = []\n",
    "for x in training_set:\n",
    "    h_values.append(machine.h(x))\n",
    "    f_values.append(f(x))   \n",
    "                                                         \n",
    "# Visualize how badly the hyphothesis fails initially\n",
    "plt.plot(training_set, h_values)\n",
    "plt.plot(training_set, f_values)\n",
    "plt.show()"
   ]
  },
  {
   "cell_type": "markdown",
   "metadata": {},
   "source": [
    "# Loss function\n",
    "To improve our hyphothesis we need a way to represent the amount of loss (how bad the hyphothesis is failing) with a single number. To improve the hyphothesis is to decrease the loss.\n",
    "\n",
    "A simple way to measure the loss is to use the average mean squared error of training examples:\n",
    "\n",
    "$$\\frac{1}{n}\\sum_{i=1}^{n}(h(x_i)-f(x_i))^2, \\text{where n is the number of training examples}$$"
   ]
  },
  {
   "cell_type": "code",
   "execution_count": 5,
   "metadata": {
    "collapsed": false
   },
   "outputs": [
    {
     "name": "stdout",
     "output_type": "stream",
     "text": [
      "139\n"
     ]
    },
    {
     "data": {
      "image/png": "[encoded data removed]",
      "text/plain": [
       "<matplotlib.figure.Figure at 0x10a6449e8>"
      ]
     },
     "metadata": {},
     "output_type": "display_data"
    }
   ],
   "source": [
    "machine = Machine()\n",
    "def loss(training_set):\n",
    "    loss = 0\n",
    "    for x in training_set:\n",
    "        loss += (machine.h(x) - f(x))**2\n",
    "        \n",
    "    return loss\n",
    "\n",
    "print(loss(training_set))    \n",
    "\n",
    "iterations = 6\n",
    "losses = []\n",
    "for i in range(0, iterations):\n",
    "    losses.append(loss(training_set))     \n",
    "    machine.a += 1\n",
    "    machine.b += 1\n",
    "   \n",
    "plt.plot(losses)\n",
    "plt.show()"
   ]
  },
  {
   "cell_type": "code",
   "execution_count": 6,
   "metadata": {
    "collapsed": false
   },
   "outputs": [
    {
     "ename": "NameError",
     "evalue": "name 'training_input' is not defined",
     "output_type": "error",
     "traceback": [
      "\u001b[0;31m---------------------------------------------------------------------------\u001b[0m",
      "\u001b[0;31mNameError\u001b[0m                                 Traceback (most recent call last)",
      "\u001b[0;32m<ipython-input-6-b6aa2796b414>\u001b[0m in \u001b[0;36m<module>\u001b[0;34m()\u001b[0m\n\u001b[1;32m      1\u001b[0m \u001b[0mmachine\u001b[0m \u001b[0;34m=\u001b[0m \u001b[0mMachine\u001b[0m\u001b[0;34m(\u001b[0m\u001b[0;34m)\u001b[0m\u001b[0;34m\u001b[0m\u001b[0m\n\u001b[0;32m----> 2\u001b[0;31m \u001b[0mplt\u001b[0m\u001b[0;34m.\u001b[0m\u001b[0mplot\u001b[0m\u001b[0;34m(\u001b[0m\u001b[0mtraining_input\u001b[0m\u001b[0;34m,\u001b[0m \u001b[0mcorrect_values\u001b[0m\u001b[0;34m,\u001b[0m \u001b[0mlinewidth\u001b[0m\u001b[0;34m=\u001b[0m\u001b[0;36m2.0\u001b[0m\u001b[0;34m)\u001b[0m\u001b[0;34m\u001b[0m\u001b[0m\n\u001b[0m\u001b[1;32m      3\u001b[0m \u001b[0;32mfor\u001b[0m \u001b[0mi\u001b[0m \u001b[0;32min\u001b[0m \u001b[0mrange\u001b[0m\u001b[0;34m(\u001b[0m\u001b[0;36m0\u001b[0m\u001b[0;34m,\u001b[0m\u001b[0miterations\u001b[0m\u001b[0;34m)\u001b[0m\u001b[0;34m:\u001b[0m\u001b[0;34m\u001b[0m\u001b[0m\n\u001b[1;32m      4\u001b[0m     \u001b[0mtraining_output\u001b[0m \u001b[0;34m=\u001b[0m \u001b[0;34m[\u001b[0m\u001b[0;34m]\u001b[0m\u001b[0;34m\u001b[0m\u001b[0m\n\u001b[1;32m      5\u001b[0m     \u001b[0;32mfor\u001b[0m \u001b[0mx\u001b[0m \u001b[0;32min\u001b[0m \u001b[0mtraining_input\u001b[0m\u001b[0;34m:\u001b[0m\u001b[0;34m\u001b[0m\u001b[0m\n",
      "\u001b[0;31mNameError\u001b[0m: name 'training_input' is not defined"
     ]
    }
   ],
   "source": [
    "machine = Machine()\n",
    "plt.plot(training_set, correct_values, linewidth=2.0)\n",
    "for i in range(0,iterations):\n",
    "    training_output = []\n",
    "    for x in training_input:\n",
    "        training_output.append(machine.h(x))\n",
    "        \n",
    "    machine.a += 1\n",
    "    machine.b += 1\n",
    "        \n",
    "    print(training_output)    \n",
    "    plt.plot(training_input, training_output)\n",
    "    \n",
    "plt.show()    "
   ]
  },
  {
   "cell_type": "markdown",
   "metadata": {},
   "source": [
    "By a lucky strike we actually managed to get a pretty close approximation. But we want a system that can automatically adjust weight and bias in the right direction and tell when it has reached the best approximation."
   ]
  },
  {
   "cell_type": "markdown",
   "metadata": {},
   "source": [
    "# Gradient descent\n",
    "Gradient descent is a popular method for doing exactly what we want: Find optimal values of a and b so that the loss becomes minimal.\n",
    "\n",
    "Gradient is a generalization of the derivative to functions of several variables. Gradient descent means that we subtract the gradient from the weight and bias. (Ascent would mean to add) \n",
    "\n",
    "When we open up $l(a,b)$ we get (Chain rule could also be mentioned):\n",
    "\n",
    "$$\\begin{align}\n",
    "l(a,b) &= (h(x) - f(x))^2 \\\\\n",
    "& = (a + bx - y)^2 \\\\\n",
    "&= a^2+2abx-2ay+b^2x^2-2bxy+y^2 \\\\\n",
    "\\end{align}$$\n",
    "\n",
    "A function with two variables can also be interpreted as a family of functions with one variable:\n",
    "\n",
    "$$\n",
    "l(a,b) = \n",
    "\\begin{cases}\n",
    "l_b(a) = a^2+2bxa-2ya+b^2x^2-2bxy+y^2, &\\text{a is a variable, b, x, and y are constants} \\\\\n",
    "l_a(b) = x^2b^2+2axb-2xyb+a^2-2ay+y^2, &\\text{b is a variable, a, x, and y are constants} \\\\\n",
    "\\end{cases}\n",
    "$$\n",
    "\n",
    "Here $l_b$ and $l_a$ each represent a family of functions, eg. $l_b$ contains functions with every value of b as a constant. Functions have been rearranged so that the constant values are in the end.\n",
    "\n",
    "Gradient $l'(a,b)$ is the combination of the partial derivatives $l_b'(a)$ and $l_a'(b)$. In other words $l'(a,b)$ is a vector whose components are $l_b'(a)$ and $l_a'(b)$:\n",
    "\n",
    "$$\n",
    "l'(a,b) = \n",
    "\\begin{cases}\n",
    "l_b'(a) = 2a+2bx-2y = 2(a+bx-y) = 2(h(x)-f(x)) \\\\\n",
    "l_a'(b) = 2x^2b+2ax-2xy = 2x(a+bx-y) = 2x(h(x)-f(x)) \\\\\n",
    "\\end{cases}\n",
    "$$\n",
    "\n",
    "Above equation only counts for one training set ie. one value for each x and y. For n training sets the equation can be represented as a sum over n training sets:\n",
    "\n",
    "$$\n",
    "\\begin{align}\n",
    "l(a,b) &= \\sum_{i=1}^{n}(h(x_i)-f(x_i))^2 \\\\\n",
    "l'(a,b) &= \n",
    "\\begin{cases}\n",
    "l_b'(a) = 2\\displaystyle\\sum_{i=1}^n(h(x_i)-f(x_i)) \\\\\n",
    "l_a'(b) = 2\\displaystyle\\sum_{i=1}^n(h(x_i)-f(x_i))x_i \\\\\n",
    "\\end{cases}\n",
    "\\end{align}\n",
    "$$"
   ]
  },
  {
   "cell_type": "code",
   "execution_count": null,
   "metadata": {
    "collapsed": false
   },
   "outputs": [],
   "source": [
    "machine = Machine()\n",
    "def loss(training_set):\n",
    "    loss = 0\n",
    "    for x in training_set:\n",
    "        loss += (machine.h(x) - f(x))**2\n",
    "        \n",
    "    return loss\n",
    "\n",
    "def gradient(training_set):\n",
    "    da = 0\n",
    "    db = 0\n",
    "    for x in training_set:\n",
    "        da += 2*(machine.h(x) - f(x))\n",
    "        db += 2*(machine.h(x) - f(x)) * x\n",
    "        \n",
    "    return (da, db)    \n",
    "\n",
    "iterations = 6\n",
    "losses = []\n",
    "gradients = []\n",
    "for i in range(0,iterations):\n",
    "    losses.append(loss(training_set))\n",
    "    gradients.append(gradient(training_set))\n",
    "    machine.a += 1\n",
    "    machine.b += 1\n",
    "\n",
    "print(losses)\n",
    "print(gradients)\n",
    "\n",
    "gradient1 = []\n",
    "machine.a = gradients[1][0]\n",
    "machine.b = gradients[1][1]\n",
    "#for x in training_input:\n",
    "for i in range(0, iterations):\n",
    "    gradient1.append(machine.h(i) + 107)\n",
    "    \n",
    "print(gradient1)\n",
    "    \n",
    "plt.plot(losses)\n",
    "plt.plot(gradient1)\n",
    "plt.show()    "
   ]
  },
  {
   "cell_type": "code",
   "execution_count": null,
   "metadata": {
    "collapsed": false
   },
   "outputs": [],
   "source": [
    "# Now let's actually use the Gradient descent\n",
    "machine = Machine()\n",
    "def gradient_descent(machine, training_set):\n",
    "    iterations = 5\n",
    "    losses = []\n",
    "    for i in range(0,iterations):        \n",
    "        losses.append(loss(training_set))\n",
    "        da = 0\n",
    "        db = 0\n",
    "        for x in training_set:\n",
    "            da += 2*(machine.h(x) - f(x))\n",
    "            db += 2*(machine.h(x) - f(x)) * x\n",
    "        print(da)\n",
    "        print(db)\n",
    "        machine.a -= da\n",
    "        machine.b -= db\n",
    "        \n",
    "    print(losses)    \n",
    "    plt.plot(losses)\n",
    "    plt.show()\n",
    "\n",
    "gradient_descent(machine, training_set)\n",
    "print(machine.a)\n",
    "print(machine.b)"
   ]
  },
  {
   "cell_type": "markdown",
   "metadata": {},
   "source": [
    "Ok, something is clearly wrong. We take the gradient of loss function and decrease bias and weight according to that, but the result is not good. Loss actually increases ridiculously fast: difference between 3 and 4 iterations is so high that values before that won't even show on the graph.\n",
    "\n",
    "The problem is we are changing bias and weight so drastically that their values keep overshooting the optimal values. What we want is minor changes so that the values slowly approach the optimum without fear of overshooting. To do this we will ad an extra parameter to the equation called alpha:\n",
    "\n",
    "$$\n",
    "\\begin{align}\n",
    "b &= b - \\alpha\\displaystyle\\sum_{i=1}^m(h(x_i)-f(x_i)) \\\\\n",
    "w &= w - \\alpha\\displaystyle\\sum_{i=1}^m(h(x_i)-f(x_i))x_i \\\\\n",
    "\\end{align}\n",
    "$$\n",
    "\n",
    "If we set alpha just right gradient descent will be nice and smooth.\n",
    "\n",
    "Now how do we pick the right value of alpha?"
   ]
  },
  {
   "cell_type": "code",
   "execution_count": null,
   "metadata": {
    "collapsed": false
   },
   "outputs": [],
   "source": [
    "machine = Machine()\n",
    "def gradient_descent(machine, training_set):\n",
    "    alpha = 0.1\n",
    "    iterations = 30\n",
    "    losses = []\n",
    "    biases = []\n",
    "    weights = []\n",
    "    for i in range(0, iterations):\n",
    "        biases.append(machine.a)\n",
    "        weights.append(machine.b)\n",
    "        losses.append(loss(training_set))\n",
    "        da = 0\n",
    "        db = 0\n",
    "        for x in training_set:\n",
    "            da += 2 * (machine.h(x) - f(x))\n",
    "            db += 2 * (machine.h(x) - f(x)) * x\n",
    "        machine.a -= alpha * da / m\n",
    "        machine.b -= alpha * db / m\n",
    "        \n",
    "    #print(losses)    \n",
    "    plt.plot(losses)\n",
    "    plt.show()\n",
    "    plt.plot(biases)\n",
    "    plt.plot(weights)\n",
    "    plt.show()\n",
    "\n",
    "gradient_descent(machine, training_set)\n",
    "print(machine.a)\n",
    "print(machine.b)"
   ]
  },
  {
   "cell_type": "markdown",
   "metadata": {},
   "source": [
    "By testing different values of $\\alpha$ and different amounts of iterations we figure out that  0.01 is about the right value for alpha and with 100 iterations we can get to a pretty much perfect approximation: bias is 2.99 and weight is 2.00.\n",
    "\n",
    "It turns out that if we also devide the gradient with m, we can lower the alpha to 0.1 and get as good approximation with only 30 iterations. Probably without deviding with m the loss can easily get to such high values that computer will run out of memory. In our example m is only 3, and we still get into trouble, so imagine a real world training set with thousands or even millions of examples."
   ]
  }
 ],
 "metadata": {
  "anaconda-cloud": {},
  "kernelspec": {
   "display_name": "Python [conda env:machine-learning]",
   "language": "python",
   "name": "conda-env-machine-learning-py"
  },
  "language_info": {
   "codemirror_mode": {
    "name": "ipython",
    "version": 3
   },
   "file_extension": ".py",
   "mimetype": "text/x-python",
   "name": "python",
   "nbconvert_exporter": "python",
   "pygments_lexer": "ipython3",
   "version": "3.5.2"
  }
 },
 "nbformat": 4,
 "nbformat_minor": 1
}
